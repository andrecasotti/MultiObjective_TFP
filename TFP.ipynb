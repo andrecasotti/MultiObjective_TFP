{
 "cells": [
  {
   "cell_type": "markdown",
   "metadata": {
    "id": "wPNX6ptWDJk_"
   },
   "source": [
    "## Libraries Import"
   ]
  },
  {
   "cell_type": "code",
   "execution_count": 7,
   "metadata": {
    "ExecuteTime": {
     "end_time": "2023-09-27T10:25:49.796929Z",
     "start_time": "2023-09-27T10:25:49.786025Z"
    },
    "id": "VAAwwr4E2URN"
   },
   "outputs": [],
   "source": [
    "import numpy as np\n",
    "import pandas as pd\n",
    "from pymoo.core.sampling import Sampling\n",
    "from pymoo.core.problem import Problem\n",
    "from pymoo.visualization.scatter import Scatter\n",
    "from sklearn.metrics import cohen_kappa_score\n",
    "import krippendorff\n",
    "import autograd.numpy as anp\n",
    "from pymoo.algorithms.soo.nonconvex.ga import GA\n",
    "from pymoo.factory import get_crossover, get_mutation, get_sampling, get_selection\n",
    "from pymoo.optimize import minimize\n",
    "from pymoo.algorithms.moo.nsga2 import NSGA2\n",
    "from pymoo.visualization.scatter import Scatter\n",
    "from pymoo.factory import get_selection\n",
    "import numpy as np\n",
    "import numba \n",
    "from numpy import argmax\n",
    "from sklearn.preprocessing import LabelEncoder\n",
    "from sklearn.preprocessing import OneHotEncoder\n",
    "import matplotlib.pyplot as plt\n",
    "from multiprocessing.pool import ThreadPool\n",
    "from pymoo.core.problem import Problem\n"
   ]
  },
  {
   "cell_type": "markdown",
   "metadata": {
    "id": "uxMICUwfTJkC"
   },
   "source": [
    "# Functions"
   ]
  },
  {
   "cell_type": "markdown",
   "metadata": {
    "id": "Y3qQbtQeTJkD"
   },
   "source": [
    "## Krippendorff's Alpha"
   ]
  },
  {
   "cell_type": "code",
   "execution_count": 8,
   "metadata": {
    "ExecuteTime": {
     "end_time": "2023-09-27T10:25:49.812849Z",
     "start_time": "2023-09-27T10:25:49.798759Z"
    },
    "id": "TV7ubUmBoWjf"
   },
   "outputs": [],
   "source": [
    "def alpha_disagreement(A,scores):\n",
    "    \n",
    "    ni = A.shape[0]\n",
    "    index = np.argwhere(A == 1)    \n",
    "    d = {i+1:index[index[:,1]==i] for i in np.unique(index[:,1])}\n",
    "    for k, v in d.items():\n",
    "        d[k] = scores[v[:,0]]\n",
    "\n",
    "    for k, v in d.items():\n",
    "        d[k] = krippendorff.alpha(reliability_data=v, level_of_measurement=\"nominal\")\n",
    "    alpha = sum(d.values())\n",
    "    return alpha"
   ]
  },
  {
   "cell_type": "markdown",
   "metadata": {
    "id": "xr5Jgc-4TJkH"
   },
   "source": [
    "## Requirements"
   ]
  },
  {
   "cell_type": "code",
   "execution_count": 9,
   "metadata": {
    "ExecuteTime": {
     "end_time": "2023-09-27T10:25:49.827785Z",
     "start_time": "2023-09-27T10:25:49.814763Z"
    },
    "id": "-f_VG_l8T2Rd"
   },
   "outputs": [],
   "source": [
    "def soft_constraint(A,R,D):\n",
    "    nj,nk = R.shape\n",
    "    Ra = np.zeros((nj,nk))\n",
    "    \n",
    "    index = np.argwhere(D == 1)\n",
    "    idi, idj = index.shape\n",
    "    for k in range(0, idi):\n",
    "        Ra[index[k,1],:] = A[index[k,0],:] + Ra[index[k,1],:]\n",
    "        f = np.sum(np.sum(abs(R - Ra)))\n",
    "    return f"
   ]
  },
  {
   "cell_type": "markdown",
   "metadata": {
    "id": "j5_YQmrQTJkI"
   },
   "source": [
    "## Group Cohesion"
   ]
  },
  {
   "cell_type": "code",
   "execution_count": 10,
   "metadata": {
    "ExecuteTime": {
     "end_time": "2023-09-27T10:25:50.373352Z",
     "start_time": "2023-09-27T10:25:49.829785Z"
    },
    "id": "uyrFbEkYAT1Y"
   },
   "outputs": [],
   "source": [
    "@numba.jit()\n",
    "def group(A,S,k,ni,nik):\n",
    "\n",
    "  E = 0\n",
    "  for i in range(0,ni):\n",
    "      for j in range(0,ni):\n",
    "          E = E + A[i,k]*A[j,k]*S[i,j]\n",
    "\n",
    "  E = E/nik[k]\n",
    "  return E\n",
    "\n",
    "\n",
    "def cohesion(A, S, R):\n",
    "  ni = A.shape[0]\n",
    "  nk = A.shape[1]\n",
    "  nik = R.sum(axis=0)\n",
    "  W = np.zeros((1, nk))\n",
    "  E = np.zeros((1, nk))\n",
    "  for k in range(0, nk):\n",
    "      E[0,k] = group(A,S,k,ni,nik)\n",
    "      W[0,k] = (np.sum(A[:,k]))/ni\n",
    "      #print(E[0,k], W[0,k]) \n",
    "      \n",
    "  Ea = W*E\n",
    "  return Ea.sum()\n"
   ]
  },
  {
   "cell_type": "code",
   "execution_count": 11,
   "metadata": {
    "ExecuteTime": {
     "end_time": "2023-09-27T10:25:50.388725Z",
     "start_time": "2023-09-27T10:25:50.376186Z"
    },
    "cellView": "form",
    "id": "j2UPHnl-_rpV"
   },
   "outputs": [],
   "source": [
    "def requirements(x):\n",
    "  f=0\n",
    "  for _x in x:\n",
    "    A_ = np.reshape(_x,(ni, nik))\n",
    "    f_aux = soft_constraint(A_,R,D)\n",
    "    f = f + f_aux\n",
    "  return 1-f"
   ]
  },
  {
   "cell_type": "markdown",
   "metadata": {
    "id": "oA40HEmPTJkJ"
   },
   "source": [
    "## Constraints "
   ]
  },
  {
   "cell_type": "code",
   "execution_count": 12,
   "metadata": {
    "ExecuteTime": {
     "end_time": "2023-09-27T10:25:50.403867Z",
     "start_time": "2023-09-27T10:25:50.390183Z"
    },
    "id": "qcViCRpTNToQ"
   },
   "outputs": [],
   "source": [
    "def constraints(x, ni, nik):\n",
    "  v = []\n",
    "  for _x in x:\n",
    "    _x = np.reshape(_x, (ni,nik))\n",
    "    s = np.all(np.sum(_x, axis=1)==1).astype(int)\n",
    "    v.append((1-s))\n",
    "  return np.array(v)\n"
   ]
  },
  {
   "cell_type": "code",
   "execution_count": 13,
   "metadata": {
    "ExecuteTime": {
     "end_time": "2023-09-27T10:25:50.419259Z",
     "start_time": "2023-09-27T10:25:50.406184Z"
    }
   },
   "outputs": [],
   "source": [
    "def constraints_1(x, R, D):\n",
    "  v = []\n",
    "  ni = D.shape[0]\n",
    "  nik = R.shape[1]\n",
    "  for _x in x:\n",
    "    _x = np.reshape(_x, (ni,nik))\n",
    "    s = soft_constraint(_x, R, D)\n",
    "    v.append((s))\n",
    "  return np.array(v)\n"
   ]
  },
  {
   "cell_type": "markdown",
   "metadata": {
    "id": "zV6gU0apTJkL"
   },
   "source": [
    "# Fitness Function"
   ]
  },
  {
   "cell_type": "markdown",
   "metadata": {
    "id": "T3jbX95U4290"
   },
   "source": [
    "## Multi Objective"
   ]
  },
  {
   "cell_type": "code",
   "execution_count": 14,
   "metadata": {
    "ExecuteTime": {
     "end_time": "2023-09-27T10:25:50.435186Z",
     "start_time": "2023-09-27T10:25:50.422331Z"
    },
    "id": "VeIoUAGh464C"
   },
   "outputs": [],
   "source": [
    "def multi_evaluate(x, S, R, D, ni, nik, scores):\n",
    "  f1 = []\n",
    "  f2 = []\n",
    "  for _x in x:\n",
    "    ni = S.shape[0]\n",
    "    nik = R.shape[1]\n",
    "    #convert to matrix\n",
    "    A_ = np.reshape(_x,(ni, nik))\n",
    "    f1.append(-1*cohesion(A_, S, R))\n",
    "    f2.append(alpha_disagreement(A_, scores))\n",
    "  return f1, f2"
   ]
  },
  {
   "cell_type": "markdown",
   "metadata": {
    "id": "8M69arSSTJkN"
   },
   "source": [
    "# Sampling Operator"
   ]
  },
  {
   "cell_type": "code",
   "execution_count": 15,
   "metadata": {
    "ExecuteTime": {
     "end_time": "2023-09-27T10:25:50.450259Z",
     "start_time": "2023-09-27T10:25:50.437184Z"
    },
    "id": "BFMzddafs6na"
   },
   "outputs": [],
   "source": [
    "label_encoder = LabelEncoder()\n",
    "onehot_encoder = OneHotEncoder(sparse=False)\n",
    "\n",
    "\n",
    "def init_particles(n_pop, ni, nk, n_var):\n",
    "  \n",
    "  a = list(range(1,nk+1))\n",
    "  delta = ni - len(a)\n",
    "  padded = np.pad(a, (0, delta), 'mean')\n",
    "  label_encoder.fit(padded)\n",
    "  pad_ex = label_encoder.transform(padded)\n",
    "  P = np.random.randint(1, nk+1, size=(n_pop, ni))\n",
    "  integer_encoded_example = pad_ex.reshape(len(pad_ex), 1)\n",
    "  onehot_encoder.fit(integer_encoded_example)\n",
    "  b = []\n",
    "\n",
    "  for i in range(n_pop): \n",
    "    integer_encoded = label_encoder.transform(P[i,:])\n",
    "    # binary encode\n",
    "    integer_encoded = integer_encoded.reshape(len(integer_encoded), 1)\n",
    "    onehot_encoded = onehot_encoder.transform(integer_encoded)\n",
    "    a = np.array(onehot_encoded)\n",
    "    a = a.astype(int)\n",
    "    a = a.flatten()\n",
    "    b.append(a)\n",
    "\n",
    "  c = np.vstack(b)\n",
    "  d = c.reshape((n_pop, n_var))\n",
    "  pop = d\n",
    "  return pop"
   ]
  },
  {
   "cell_type": "code",
   "execution_count": 16,
   "metadata": {
    "ExecuteTime": {
     "end_time": "2023-09-27T10:25:50.466271Z",
     "start_time": "2023-09-27T10:25:50.451185Z"
    },
    "id": "bxKMO2uRVsUm"
   },
   "outputs": [],
   "source": [
    "def convert_matrix(ni, nk, n_var, X, R):\n",
    "\n",
    "  n_pop = X.shape[0]\n",
    "  a = list(range(1,nk+1))\n",
    "  delta = ni - len(a)\n",
    "  padded = np.pad(a, (0, delta), 'mean')\n",
    "  label_encoder.fit(padded)\n",
    "  pad_ex = label_encoder.transform(padded)\n",
    "  integer_encoded_example = pad_ex.reshape(len(pad_ex), 1)\n",
    "  onehot_encoder.fit(integer_encoded_example)\n",
    "  b = []\n",
    "  X = np.round(X)\n",
    "  for i in range(n_pop):     \n",
    "    integer_encoded = label_encoder.transform(X[i,:])\n",
    "    # binary encode\n",
    "    integer_encoded = integer_encoded.reshape(len(integer_encoded), 1)\n",
    "    onehot_encoded = onehot_encoder.transform(integer_encoded)\n",
    "    a = np.array(onehot_encoded)\n",
    "    a = a.astype(int)\n",
    "    a = a.flatten()\n",
    "    b.append(a)\n",
    "\n",
    "  c = np.vstack(b)\n",
    "  d = c.reshape((n_pop, n_var*R.shape[1]))\n",
    "  pop = d\n",
    "  return pop"
   ]
  },
  {
   "cell_type": "code",
   "execution_count": 17,
   "metadata": {
    "ExecuteTime": {
     "end_time": "2023-09-27T10:25:50.481294Z",
     "start_time": "2023-09-27T10:25:50.467184Z"
    },
    "id": "4Gu6ovzQhqgD"
   },
   "outputs": [],
   "source": [
    "def convert_ind(ni, nk, n_var, X, R):\n",
    "\n",
    "  n_pop = X.shape[0]\n",
    "  a = list(range(1,nk+1))\n",
    "  delta = ni - len(a)\n",
    "  padded = np.pad(a, (0, delta), 'mean')\n",
    "  label_encoder.fit(padded)\n",
    "  pad_ex = label_encoder.transform(padded)\n",
    "  integer_encoded_example = pad_ex.reshape(len(pad_ex), 1)\n",
    "  onehot_encoder.fit(integer_encoded_example)\n",
    "  b = []\n",
    "  #X = np.round(X)\n",
    "  integer_encoded = label_encoder.transform(X)\n",
    "   # binary encode\n",
    "  integer_encoded = integer_encoded.reshape(len(integer_encoded), 1)\n",
    "  onehot_encoded = onehot_encoder.transform(integer_encoded)\n",
    "  a = np.array(onehot_encoded)\n",
    "  a = a.astype(int)\n",
    "  a = a.flatten()\n",
    "  b.append(a)\n",
    "\n",
    "  c = np.vstack(b)\n",
    "  d = c.reshape((1, n_var*R.shape[1]))\n",
    "  pop = d\n",
    "  return pop"
   ]
  },
  {
   "cell_type": "code",
   "execution_count": 18,
   "metadata": {
    "ExecuteTime": {
     "end_time": "2023-09-27T10:25:50.497326Z",
     "start_time": "2023-09-27T10:25:50.483223Z"
    },
    "id": "g9GGkYgOTJkN"
   },
   "outputs": [],
   "source": [
    "def initial_particles(n_pop, nk, n_var):\n",
    "    P = np.random.randint(1, nk+1, size=(n_pop, n_var))\n",
    "    return P"
   ]
  },
  {
   "cell_type": "code",
   "execution_count": 19,
   "metadata": {
    "ExecuteTime": {
     "end_time": "2023-09-27T10:25:50.513578Z",
     "start_time": "2023-09-27T10:25:50.498186Z"
    },
    "id": "e0ajcjCisZSk"
   },
   "outputs": [],
   "source": [
    "from pymoo.core.sampling import Sampling\n",
    "\n",
    "class MySampling(Sampling):\n",
    "\n",
    "    def _do(self, problem, n_samples, **kwargs):\n",
    "      X = initial_particles(n_samples, problem.nik, problem.n_var)\n",
    "      return X\n"
   ]
  },
  {
   "cell_type": "markdown",
   "metadata": {
    "id": "9Z4RPkOcTJkO"
   },
   "source": [
    "# Problem Definition in Pymoo"
   ]
  },
  {
   "cell_type": "code",
   "execution_count": 20,
   "metadata": {
    "ExecuteTime": {
     "end_time": "2023-09-27T10:25:50.575797Z",
     "start_time": "2023-09-27T10:25:50.515479Z"
    },
    "id": "Qk0-jOcMV7Be"
   },
   "outputs": [],
   "source": [
    "#from pymoo.core.problem import starmap_parallelized_eval\n",
    "\n",
    "\n",
    "pool = ThreadPool(128)\n",
    "class Multi_Thread(Problem):\n",
    "\n",
    "    def __init__(self, S, R, D):\n",
    "\n",
    "        super().__init__(n_var=S.shape[0], n_obj=2, n_constr=2, xl=1, xu=R.shape[1])\n",
    "\n",
    "        \n",
    "        self.S = S\n",
    "        self.R = R\n",
    "        self.D = D\n",
    "        self.ni = self.S.shape[0]\n",
    "        self.nik = self.R.shape[1]\n",
    "        np.random.seed(45)\n",
    "        self.scores = np.random.randint(0,8, (self.ni, 4))\n",
    "\n",
    "\n",
    "    def _evaluate(self, x, out, *args, **kwargs):\n",
    "        \n",
    "        x = convert_matrix(self.ni, self.nik, self.n_var, x, self.R)\n",
    "        g1 = constraints(x, self.ni, self.nik)\n",
    "        g2 = constraints_1(x, self.R, self.D) \n",
    "        def multi_evaluate(x):\n",
    "            A_ = np.reshape(x,(self.ni, self.nik))\n",
    "            f2 = -1*cohesion(A_, self.S, self.R)\n",
    "            f3 = alpha_disagreement(A_, self.scores)\n",
    "            return f2, f3\n",
    "\n",
    "        params = [[x[k]] for k in range(len(x))]\n",
    "        F = pool.starmap(multi_evaluate, params)\n",
    "        out[\"F\"] =  np.array(F)\n",
    "        out[\"G\"] = anp.column_stack([g1, g2])\n"
   ]
  },
  {
   "cell_type": "markdown",
   "metadata": {
    "id": "uEQP4cgsTJkP"
   },
   "source": [
    "# Read Benchmark's Dataset"
   ]
  },
  {
   "cell_type": "code",
   "execution_count": 21,
   "metadata": {
    "ExecuteTime": {
     "end_time": "2023-09-27T10:25:51.736889Z",
     "start_time": "2023-09-27T10:25:50.577641Z"
    },
    "id": "pY_fj6l0TJkP"
   },
   "outputs": [],
   "source": [
    "  #A = Alocation vector\n",
    "  #S = Sociometric matrix\n",
    "  #R = Requirement matrix\n",
    "  #ni = number of people to be allocated\n",
    "  #nik = number of groups\n",
    "  #D = Departament vector\n",
    "\n",
    "\n",
    "\n",
    "SocMatrix1 = pd.read_excel('SM1.xlsx', header=None)\n",
    "ReqMatrix1 = pd.read_excel('RM1.xlsx', header=None)\n",
    "DepVector1= pd.read_excel('RM1.xlsx', header=None, sheet_name=1)\n",
    "\n",
    "SM1 = np.array(SocMatrix1)\n",
    "RM1 = np.array(ReqMatrix1)\n",
    "D1 = np.array(DepVector1)\n",
    "\n",
    "SocMatrix2 = pd.read_excel('SM2.xlsx', header=None)\n",
    "ReqMatrix2 = pd.read_excel('RM2.xlsx', header=None)\n",
    "DepVector2= pd.read_excel('RM2.xlsx', header=None, sheet_name=1)\n",
    "SM2 = np.array(SocMatrix2)\n",
    "RM2 = np.array(ReqMatrix2)\n",
    "D2 = np.array(DepVector2)\n",
    "\n",
    "SocMatrix3 = pd.read_excel('SM3.xlsx', header=None)\n",
    "ReqMatrix3 = pd.read_excel('RM3.xlsx', header=None)\n",
    "DepVector3= pd.read_excel('RM3.xlsx', header=None, sheet_name=1)\n",
    "\n",
    "SM3 = np.array(SocMatrix3)\n",
    "RM3 = np.array(ReqMatrix3)\n",
    "D3 = np.array(DepVector3)\n",
    "\n",
    "\n",
    "SocMatrix4 = pd.read_excel('SM4.xlsx', header=None)\n",
    "ReqMatrix4 = pd.read_excel('RM4.xlsx', header=None)\n",
    "DepVector4= pd.read_excel('RM4.xlsx', header=None, sheet_name=1)\n",
    "\n",
    "SM4 = np.array(SocMatrix4)\n",
    "RM4 = np.array(ReqMatrix4)\n",
    "D4 = np.array(DepVector4)\n",
    "\n",
    "SocMatrix5 = pd.read_excel('SM5.xlsx', header=None)\n",
    "ReqMatrix5 = pd.read_excel('RM5.xlsx', header=None)\n",
    "DepVector5= pd.read_excel('RM5.xlsx', header=None, sheet_name=1)\n",
    "\n",
    "SM5 = np.array(SocMatrix5)\n",
    "RM5 = np.array(ReqMatrix5)\n",
    "D5 = np.array(DepVector5)\n",
    "\n",
    "SocMatrix6 = pd.read_excel('SM6.xlsx', header=None)\n",
    "ReqMatrix6 = pd.read_excel('RM6.xlsx', header=None)\n",
    "DepVector6= pd.read_excel('RM6.xlsx', header=None, sheet_name=1)\n",
    "\n",
    "SM6 = np.array(SocMatrix6)\n",
    "RM6 = np.array(ReqMatrix6)\n",
    "D6 = np.array(DepVector6)\n",
    "\n",
    "\n",
    "SocMatrix7 = pd.read_excel('SM7.xlsx', header=None)\n",
    "ReqMatrix7 = pd.read_excel('RM7.xlsx', header=None)\n",
    "DepVector7= pd.read_excel('RM7.xlsx', header=None, sheet_name=1)\n",
    "\n",
    "SM7 = np.array(SocMatrix7)\n",
    "RM7 = np.array(ReqMatrix7)\n",
    "D7 = np.array(DepVector7)\n",
    "\n",
    "\n",
    "\n",
    "\n",
    "\n"
   ]
  },
  {
   "cell_type": "markdown",
   "metadata": {
    "id": "RC0f3RMzTJkQ"
   },
   "source": [
    "#  MOO Running"
   ]
  },
  {
   "cell_type": "markdown",
   "metadata": {},
   "source": [
    "Here we provide some examples on how to run the algorithms. For the study, we performed 10 simulations rounds for each algorithm in each instance of the problem. The results and its analyses are provided in the next section"
   ]
  },
  {
   "cell_type": "code",
   "execution_count": 22,
   "metadata": {
    "ExecuteTime": {
     "end_time": "2023-09-27T10:25:51.751844Z",
     "start_time": "2023-09-27T10:25:51.738809Z"
    }
   },
   "outputs": [],
   "source": [
    "from pymoo.util.ref_dirs import get_reference_directions\n",
    "from pymoo.algorithms.moo.unsga3 import UNSGA3\n",
    "from pymoo.algorithms.moo.sms import SMSEMOA\n",
    "from pymoo.algorithms.moo.nsga2 import NSGA2\n",
    "from pymoo.algorithms.moo.spea2 import SPEA2\n",
    "from pymoo.operators.crossover.hux import HalfUniformCrossover\n",
    "from pymoo.operators.mutation.inversion import InversionMutation\n",
    "from pymoo.operators.survival.rank_and_crowding import RankAndCrowding, ConstrRankAndCrowding\n",
    "from pymoo.operators.crossover.sbx import SBX\n",
    "from pymoo.operators.crossover.ox import OrderCrossover\n",
    "from pymoo.operators.repair.rounding import RoundingRepair\n",
    "from pymoo.operators.crossover.ux import UniformCrossover\n",
    "from pymoo.indicators.hv import HV\n"
   ]
  },
  {
   "cell_type": "code",
   "execution_count": 25,
   "metadata": {
    "ExecuteTime": {
     "end_time": "2023-09-27T10:27:28.044124Z",
     "start_time": "2023-09-27T10:27:28.025141Z"
    }
   },
   "outputs": [],
   "source": [
    "problem1 = Multi_Thread(SM1, RM1, D1)\n",
    "problem2 = Multi_Thread(SM2, RM2, D2)\n",
    "problem3 = Multi_Thread(SM3, RM3, D3)\n",
    "problem4 = Multi_Thread(SM4, RM4, D4)\n",
    "problem5  = Multi_Thread(SM5, RM5, D5)\n",
    "problem6  = Multi_Thread(SM6, RM6, D6)\n",
    "problem7  = Multi_Thread(SM7, RM7, D7)"
   ]
  },
  {
   "cell_type": "markdown",
   "metadata": {},
   "source": [
    "## NSGA2"
   ]
  },
  {
   "cell_type": "code",
   "execution_count": 23,
   "metadata": {
    "ExecuteTime": {
     "end_time": "2023-09-27T10:25:51.767859Z",
     "start_time": "2023-09-27T10:25:51.753760Z"
    }
   },
   "outputs": [],
   "source": [
    "algorithm_nsga2 = NSGA2(\n",
    "      pop_size=80,\n",
    "      sampling = MySampling(),\n",
    "      crossover = SBX(prob=0.1),\n",
    "      mutation = InversionMutation(prob=0.25),\n",
    "      survival=RankAndCrowding(crowding_func=\"ce\"),\n",
    "      eliminate_duplicates=True)"
   ]
  },
  {
   "cell_type": "markdown",
   "metadata": {},
   "source": [
    "An example on how to perform the optmization using the previous defined algorithm"
   ]
  },
  {
   "cell_type": "code",
   "execution_count": 27,
   "metadata": {
    "ExecuteTime": {
     "end_time": "2023-09-27T10:29:59.402301Z",
     "start_time": "2023-09-27T10:28:09.057135Z"
    }
   },
   "outputs": [
    {
     "name": "stdout",
     "output_type": "stream",
     "text": [
      "==========================================================================================\n",
      "n_gen  |  n_eval  | n_nds  |     cv_min    |     cv_avg    |      eps      |   indicator  \n",
      "==========================================================================================\n",
      "     1 |       80 |      1 |  2.0000000000 |  9.0500000000 |             - |             -\n",
      "     2 |      160 |      1 |  2.0000000000 |  6.5250000000 |             - |             -\n",
      "     3 |      240 |      1 |  0.000000E+00 |  4.9000000000 |             - |             -\n",
      "     4 |      320 |      2 |  0.000000E+00 |  3.7250000000 |  1.0000000000 |         ideal\n",
      "     5 |      400 |      2 |  0.000000E+00 |  2.9000000000 |  0.000000E+00 |             f\n",
      "     6 |      480 |      3 |  0.000000E+00 |  2.2750000000 |  0.6666666667 |         ideal\n",
      "     7 |      560 |      3 |  0.000000E+00 |  1.6000000000 |  0.000000E+00 |             f\n",
      "     8 |      640 |      4 |  0.000000E+00 |  1.4250000000 |  0.4000000000 |         ideal\n",
      "     9 |      720 |      4 |  0.000000E+00 |  1.3750000000 |  0.000000E+00 |             f\n",
      "    10 |      800 |      4 |  0.000000E+00 |  1.2500000000 |  0.000000E+00 |             f\n",
      "    11 |      880 |      5 |  0.000000E+00 |  1.2250000000 |  0.1150569632 |         ideal\n",
      "    12 |      960 |      5 |  0.000000E+00 |  1.2000000000 |  0.000000E+00 |             f\n",
      "    13 |     1040 |      5 |  0.000000E+00 |  1.1500000000 |  0.000000E+00 |             f\n",
      "    14 |     1120 |      5 |  0.000000E+00 |  1.1500000000 |  0.000000E+00 |             f\n",
      "    15 |     1200 |      5 |  0.000000E+00 |  1.1500000000 |  0.000000E+00 |             f\n",
      "    16 |     1280 |      5 |  0.000000E+00 |  1.1500000000 |  0.000000E+00 |             f\n",
      "    17 |     1360 |      5 |  0.000000E+00 |  1.1500000000 |  0.000000E+00 |             f\n",
      "    18 |     1440 |      5 |  0.000000E+00 |  1.1250000000 |  0.000000E+00 |             f\n",
      "    19 |     1520 |      5 |  0.000000E+00 |  1.1250000000 |  0.000000E+00 |             f\n",
      "    20 |     1600 |      5 |  0.000000E+00 |  1.1250000000 |  0.000000E+00 |             f\n",
      "    21 |     1680 |      5 |  0.000000E+00 |  1.1000000000 |  0.000000E+00 |             f\n",
      "    22 |     1760 |      5 |  0.000000E+00 |  1.1000000000 |  0.000000E+00 |             f\n",
      "    23 |     1840 |      5 |  0.000000E+00 |  1.1000000000 |  0.000000E+00 |             f\n",
      "    24 |     1920 |      5 |  0.000000E+00 |  1.1000000000 |  0.000000E+00 |             f\n",
      "    25 |     2000 |      5 |  0.000000E+00 |  1.1000000000 |  0.000000E+00 |             f\n",
      "    26 |     2080 |      5 |  0.000000E+00 |  1.1000000000 |  0.000000E+00 |             f\n",
      "    27 |     2160 |      5 |  0.000000E+00 |  1.1000000000 |  0.000000E+00 |             f\n",
      "    28 |     2240 |      5 |  0.000000E+00 |  1.1000000000 |  0.000000E+00 |             f\n",
      "    29 |     2320 |      5 |  0.000000E+00 |  1.1000000000 |  0.000000E+00 |             f\n",
      "    30 |     2400 |      5 |  0.000000E+00 |  1.1000000000 |  0.000000E+00 |             f\n",
      "    31 |     2480 |      5 |  0.000000E+00 |  1.1000000000 |  0.000000E+00 |             f\n",
      "    32 |     2560 |      5 |  0.000000E+00 |  1.1000000000 |  0.000000E+00 |             f\n",
      "    33 |     2640 |      5 |  0.000000E+00 |  1.1000000000 |  0.000000E+00 |             f\n",
      "    34 |     2720 |      5 |  0.000000E+00 |  1.1000000000 |  0.000000E+00 |             f\n",
      "    35 |     2800 |      5 |  0.000000E+00 |  1.1000000000 |  0.000000E+00 |             f\n",
      "    36 |     2880 |      5 |  0.000000E+00 |  1.1000000000 |  0.000000E+00 |             f\n",
      "    37 |     2960 |      5 |  0.000000E+00 |  1.1000000000 |  0.000000E+00 |             f\n",
      "    38 |     3040 |      5 |  0.000000E+00 |  1.1000000000 |  0.000000E+00 |             f\n",
      "    39 |     3120 |      5 |  0.000000E+00 |  1.1000000000 |  0.000000E+00 |             f\n",
      "    40 |     3200 |      5 |  0.000000E+00 |  1.1000000000 |  0.000000E+00 |             f\n",
      "    41 |     3280 |      5 |  0.000000E+00 |  1.1000000000 |  0.000000E+00 |             f\n",
      "    42 |     3360 |      5 |  0.000000E+00 |  1.1000000000 |  0.000000E+00 |             f\n",
      "    43 |     3440 |      5 |  0.000000E+00 |  1.1000000000 |  0.000000E+00 |             f\n",
      "    44 |     3520 |      5 |  0.000000E+00 |  1.1000000000 |  0.000000E+00 |             f\n",
      "    45 |     3600 |      5 |  0.000000E+00 |  1.1000000000 |  0.000000E+00 |             f\n",
      "    46 |     3680 |      5 |  0.000000E+00 |  1.1000000000 |  0.000000E+00 |             f\n",
      "    47 |     3760 |      5 |  0.000000E+00 |  1.1000000000 |  0.000000E+00 |             f\n",
      "    48 |     3840 |      5 |  0.000000E+00 |  1.1000000000 |  0.000000E+00 |             f\n",
      "    49 |     3920 |      5 |  0.000000E+00 |  1.1000000000 |  0.000000E+00 |             f\n",
      "    50 |     4000 |      5 |  0.000000E+00 |  1.1000000000 |  0.000000E+00 |             f\n",
      "    51 |     4080 |      5 |  0.000000E+00 |  1.1000000000 |  0.000000E+00 |             f\n",
      "    52 |     4160 |      5 |  0.000000E+00 |  1.1000000000 |  0.000000E+00 |             f\n",
      "    53 |     4240 |      5 |  0.000000E+00 |  1.1000000000 |  0.000000E+00 |             f\n",
      "    54 |     4320 |      5 |  0.000000E+00 |  1.1000000000 |  0.000000E+00 |             f\n",
      "    55 |     4400 |      5 |  0.000000E+00 |  1.1000000000 |  0.000000E+00 |             f\n",
      "    56 |     4480 |      5 |  0.000000E+00 |  1.1000000000 |  0.000000E+00 |             f\n",
      "    57 |     4560 |      5 |  0.000000E+00 |  1.1000000000 |  0.000000E+00 |             f\n",
      "    58 |     4640 |      5 |  0.000000E+00 |  1.1000000000 |  0.000000E+00 |             f\n",
      "    59 |     4720 |      5 |  0.000000E+00 |  1.1000000000 |  0.000000E+00 |             f\n",
      "    60 |     4800 |      5 |  0.000000E+00 |  1.1000000000 |  0.000000E+00 |             f\n",
      "    61 |     4880 |      5 |  0.000000E+00 |  1.1000000000 |  0.000000E+00 |             f\n",
      "    62 |     4960 |      5 |  0.000000E+00 |  1.1000000000 |  0.000000E+00 |             f\n",
      "    63 |     5040 |      5 |  0.000000E+00 |  1.1000000000 |  0.000000E+00 |             f\n",
      "    64 |     5120 |      5 |  0.000000E+00 |  1.1000000000 |  0.000000E+00 |             f\n",
      "    65 |     5200 |      5 |  0.000000E+00 |  1.1000000000 |  0.000000E+00 |             f\n",
      "    66 |     5280 |      5 |  0.000000E+00 |  1.1000000000 |  0.000000E+00 |             f\n",
      "    67 |     5360 |      5 |  0.000000E+00 |  1.1000000000 |  0.000000E+00 |             f\n",
      "    68 |     5440 |      5 |  0.000000E+00 |  1.1000000000 |  0.000000E+00 |             f\n",
      "    69 |     5520 |      5 |  0.000000E+00 |  1.1000000000 |  0.000000E+00 |             f\n",
      "    70 |     5600 |      5 |  0.000000E+00 |  1.1000000000 |  0.000000E+00 |             f\n",
      "    71 |     5680 |      5 |  0.000000E+00 |  1.1000000000 |  0.000000E+00 |             f\n",
      "    72 |     5760 |      5 |  0.000000E+00 |  1.1000000000 |  0.000000E+00 |             f\n",
      "    73 |     5840 |      5 |  0.000000E+00 |  1.1000000000 |  0.000000E+00 |             f\n",
      "    74 |     5920 |      5 |  0.000000E+00 |  1.1000000000 |  0.000000E+00 |             f\n",
      "    75 |     6000 |      5 |  0.000000E+00 |  1.1000000000 |  0.000000E+00 |             f\n",
      "    76 |     6080 |      5 |  0.000000E+00 |  1.1000000000 |  0.000000E+00 |             f\n",
      "    77 |     6160 |      5 |  0.000000E+00 |  1.1000000000 |  0.000000E+00 |             f\n",
      "    78 |     6240 |      5 |  0.000000E+00 |  1.1000000000 |  0.000000E+00 |             f\n",
      "    79 |     6320 |      5 |  0.000000E+00 |  1.1000000000 |  0.000000E+00 |             f\n",
      "    80 |     6400 |      5 |  0.000000E+00 |  1.1000000000 |  0.000000E+00 |             f\n",
      "    81 |     6480 |      5 |  0.000000E+00 |  1.1000000000 |  0.000000E+00 |             f\n",
      "    82 |     6560 |      5 |  0.000000E+00 |  1.1000000000 |  0.000000E+00 |             f\n",
      "    83 |     6640 |      5 |  0.000000E+00 |  1.1000000000 |  0.000000E+00 |             f\n",
      "    84 |     6720 |      5 |  0.000000E+00 |  1.1000000000 |  0.000000E+00 |             f\n",
      "    85 |     6800 |      5 |  0.000000E+00 |  1.1000000000 |  0.000000E+00 |             f\n",
      "    86 |     6880 |      5 |  0.000000E+00 |  1.1000000000 |  0.000000E+00 |             f\n",
      "    87 |     6960 |      5 |  0.000000E+00 |  1.1000000000 |  0.000000E+00 |             f\n",
      "    88 |     7040 |      5 |  0.000000E+00 |  1.1000000000 |  0.000000E+00 |             f\n"
     ]
    },
    {
     "name": "stdout",
     "output_type": "stream",
     "text": [
      "    89 |     7120 |      5 |  0.000000E+00 |  1.1000000000 |  0.000000E+00 |             f\n",
      "    90 |     7200 |      5 |  0.000000E+00 |  1.1000000000 |  0.000000E+00 |             f\n",
      "    91 |     7280 |      5 |  0.000000E+00 |  1.1000000000 |  0.000000E+00 |             f\n",
      "    92 |     7360 |      5 |  0.000000E+00 |  1.1000000000 |  0.000000E+00 |             f\n",
      "    93 |     7440 |      5 |  0.000000E+00 |  1.1000000000 |  0.000000E+00 |             f\n",
      "    94 |     7520 |      5 |  0.000000E+00 |  1.1000000000 |  0.000000E+00 |             f\n",
      "    95 |     7600 |      5 |  0.000000E+00 |  1.1000000000 |  0.000000E+00 |             f\n",
      "    96 |     7680 |      5 |  0.000000E+00 |  1.1000000000 |  0.000000E+00 |             f\n",
      "    97 |     7760 |      5 |  0.000000E+00 |  1.1000000000 |  0.000000E+00 |             f\n",
      "    98 |     7840 |      5 |  0.000000E+00 |  1.1000000000 |  0.000000E+00 |             f\n",
      "    99 |     7920 |      5 |  0.000000E+00 |  1.1000000000 |  0.000000E+00 |             f\n",
      "   100 |     8000 |      5 |  0.000000E+00 |  1.1000000000 |  0.000000E+00 |             f\n",
      "   101 |     8080 |      5 |  0.000000E+00 |  1.1000000000 |  0.000000E+00 |             f\n",
      "   102 |     8160 |      5 |  0.000000E+00 |  1.1000000000 |  0.000000E+00 |             f\n",
      "   103 |     8240 |      5 |  0.000000E+00 |  1.1000000000 |  0.000000E+00 |             f\n",
      "   104 |     8320 |      5 |  0.000000E+00 |  1.1000000000 |  0.000000E+00 |             f\n",
      "   105 |     8400 |      5 |  0.000000E+00 |  1.1000000000 |  0.000000E+00 |             f\n",
      "   106 |     8480 |      5 |  0.000000E+00 |  1.1000000000 |  0.000000E+00 |             f\n",
      "   107 |     8560 |      5 |  0.000000E+00 |  1.1000000000 |  0.000000E+00 |             f\n",
      "   108 |     8640 |      5 |  0.000000E+00 |  1.1000000000 |  0.000000E+00 |             f\n",
      "   109 |     8720 |      5 |  0.000000E+00 |  1.1000000000 |  0.000000E+00 |             f\n",
      "   110 |     8800 |      5 |  0.000000E+00 |  1.1000000000 |  0.000000E+00 |             f\n",
      "   111 |     8880 |      5 |  0.000000E+00 |  1.1000000000 |  0.000000E+00 |             f\n",
      "   112 |     8960 |      5 |  0.000000E+00 |  1.1000000000 |  0.000000E+00 |             f\n",
      "   113 |     9040 |      5 |  0.000000E+00 |  1.1000000000 |  0.000000E+00 |             f\n",
      "   114 |     9120 |      5 |  0.000000E+00 |  1.1000000000 |  0.000000E+00 |             f\n",
      "   115 |     9200 |      5 |  0.000000E+00 |  1.1000000000 |  0.000000E+00 |             f\n",
      "   116 |     9280 |      5 |  0.000000E+00 |  1.1000000000 |  0.000000E+00 |             f\n",
      "   117 |     9360 |      5 |  0.000000E+00 |  1.1000000000 |  0.000000E+00 |             f\n",
      "   118 |     9440 |      5 |  0.000000E+00 |  1.1000000000 |  0.000000E+00 |             f\n",
      "   119 |     9520 |      5 |  0.000000E+00 |  1.1000000000 |  0.000000E+00 |             f\n",
      "   120 |     9600 |      5 |  0.000000E+00 |  1.1000000000 |  0.000000E+00 |             f\n",
      "   121 |     9680 |      5 |  0.000000E+00 |  1.1000000000 |  0.000000E+00 |             f\n",
      "   122 |     9760 |      5 |  0.000000E+00 |  1.1000000000 |  0.000000E+00 |             f\n",
      "   123 |     9840 |      5 |  0.000000E+00 |  1.1000000000 |  0.000000E+00 |             f\n",
      "   124 |     9920 |      5 |  0.000000E+00 |  1.1000000000 |  0.000000E+00 |             f\n",
      "   125 |    10000 |      5 |  0.000000E+00 |  1.1000000000 |  0.000000E+00 |             f\n",
      "   126 |    10080 |      5 |  0.000000E+00 |  1.1000000000 |  0.000000E+00 |             f\n",
      "   127 |    10160 |      5 |  0.000000E+00 |  1.1000000000 |  0.000000E+00 |             f\n",
      "   128 |    10240 |      5 |  0.000000E+00 |  1.1000000000 |  0.000000E+00 |             f\n",
      "   129 |    10320 |      5 |  0.000000E+00 |  1.1000000000 |  0.000000E+00 |             f\n",
      "   130 |    10400 |      5 |  0.000000E+00 |  1.1000000000 |  0.000000E+00 |             f\n",
      "   131 |    10480 |      5 |  0.000000E+00 |  1.1000000000 |  0.000000E+00 |             f\n",
      "   132 |    10560 |      5 |  0.000000E+00 |  1.1000000000 |  0.000000E+00 |             f\n",
      "   133 |    10640 |      5 |  0.000000E+00 |  1.1000000000 |  0.000000E+00 |             f\n",
      "   134 |    10720 |      5 |  0.000000E+00 |  1.1000000000 |  0.000000E+00 |             f\n",
      "   135 |    10800 |      5 |  0.000000E+00 |  1.1000000000 |  0.000000E+00 |             f\n",
      "   136 |    10880 |      5 |  0.000000E+00 |  1.1000000000 |  0.000000E+00 |             f\n",
      "   137 |    10960 |      5 |  0.000000E+00 |  1.1000000000 |  0.000000E+00 |             f\n",
      "   138 |    11040 |      5 |  0.000000E+00 |  1.1000000000 |  0.000000E+00 |             f\n",
      "   139 |    11120 |      5 |  0.000000E+00 |  1.1000000000 |  0.000000E+00 |             f\n",
      "   140 |    11200 |      5 |  0.000000E+00 |  1.1000000000 |  0.000000E+00 |             f\n",
      "   141 |    11280 |      5 |  0.000000E+00 |  1.1000000000 |  0.000000E+00 |             f\n",
      "   142 |    11360 |      5 |  0.000000E+00 |  1.1000000000 |  0.000000E+00 |             f\n",
      "   143 |    11440 |      5 |  0.000000E+00 |  1.1000000000 |  0.000000E+00 |             f\n",
      "   144 |    11520 |      5 |  0.000000E+00 |  1.1000000000 |  0.000000E+00 |             f\n",
      "   145 |    11600 |      5 |  0.000000E+00 |  1.1000000000 |  0.000000E+00 |             f\n",
      "   146 |    11680 |      5 |  0.000000E+00 |  1.1000000000 |  0.000000E+00 |             f\n",
      "   147 |    11760 |      5 |  0.000000E+00 |  1.1000000000 |  0.000000E+00 |             f\n",
      "   148 |    11840 |      5 |  0.000000E+00 |  1.1000000000 |  0.000000E+00 |             f\n",
      "   149 |    11920 |      5 |  0.000000E+00 |  1.1000000000 |  0.000000E+00 |             f\n",
      "   150 |    12000 |      5 |  0.000000E+00 |  1.1000000000 |  0.000000E+00 |             f\n",
      "   151 |    12080 |      5 |  0.000000E+00 |  1.1000000000 |  0.000000E+00 |             f\n",
      "   152 |    12160 |      5 |  0.000000E+00 |  1.1000000000 |  0.000000E+00 |             f\n",
      "   153 |    12240 |      5 |  0.000000E+00 |  1.1000000000 |  0.000000E+00 |             f\n",
      "   154 |    12320 |      5 |  0.000000E+00 |  1.1000000000 |  0.000000E+00 |             f\n",
      "   155 |    12400 |      5 |  0.000000E+00 |  1.1000000000 |  0.000000E+00 |             f\n",
      "   156 |    12480 |      5 |  0.000000E+00 |  1.1000000000 |  0.000000E+00 |             f\n",
      "   157 |    12560 |      5 |  0.000000E+00 |  1.1000000000 |  0.000000E+00 |             f\n",
      "   158 |    12640 |      5 |  0.000000E+00 |  1.1000000000 |  0.000000E+00 |             f\n",
      "   159 |    12720 |      5 |  0.000000E+00 |  1.1000000000 |  0.000000E+00 |             f\n",
      "   160 |    12800 |      5 |  0.000000E+00 |  1.1000000000 |  0.000000E+00 |             f\n",
      "   161 |    12880 |      5 |  0.000000E+00 |  1.1000000000 |  0.000000E+00 |             f\n",
      "   162 |    12960 |      5 |  0.000000E+00 |  1.1000000000 |  0.000000E+00 |             f\n",
      "   163 |    13040 |      5 |  0.000000E+00 |  1.1000000000 |  0.000000E+00 |             f\n",
      "   164 |    13120 |      5 |  0.000000E+00 |  1.1000000000 |  0.000000E+00 |             f\n",
      "   165 |    13200 |      5 |  0.000000E+00 |  1.1000000000 |  0.000000E+00 |             f\n",
      "   166 |    13280 |      5 |  0.000000E+00 |  1.1000000000 |  0.000000E+00 |             f\n",
      "   167 |    13360 |      5 |  0.000000E+00 |  1.1000000000 |  0.000000E+00 |             f\n",
      "   168 |    13440 |      5 |  0.000000E+00 |  1.1000000000 |  0.000000E+00 |             f\n",
      "   169 |    13520 |      5 |  0.000000E+00 |  1.1000000000 |  0.000000E+00 |             f\n",
      "   170 |    13600 |      5 |  0.000000E+00 |  1.1000000000 |  0.000000E+00 |             f\n",
      "   171 |    13680 |      5 |  0.000000E+00 |  1.1000000000 |  0.000000E+00 |             f\n",
      "   172 |    13760 |      5 |  0.000000E+00 |  1.1000000000 |  0.000000E+00 |             f\n",
      "   173 |    13840 |      5 |  0.000000E+00 |  1.1000000000 |  0.000000E+00 |             f\n",
      "   174 |    13920 |      5 |  0.000000E+00 |  1.1000000000 |  0.000000E+00 |             f\n",
      "   175 |    14000 |      5 |  0.000000E+00 |  1.1000000000 |  0.000000E+00 |             f\n",
      "   176 |    14080 |      5 |  0.000000E+00 |  1.1000000000 |  0.000000E+00 |             f\n",
      "   177 |    14160 |      5 |  0.000000E+00 |  1.1000000000 |  0.000000E+00 |             f\n",
      "   178 |    14240 |      5 |  0.000000E+00 |  1.1000000000 |  0.000000E+00 |             f\n",
      "   179 |    14320 |      5 |  0.000000E+00 |  1.1000000000 |  0.000000E+00 |             f\n"
     ]
    },
    {
     "name": "stdout",
     "output_type": "stream",
     "text": [
      "   180 |    14400 |      5 |  0.000000E+00 |  1.1000000000 |  0.000000E+00 |             f\n",
      "   181 |    14480 |      5 |  0.000000E+00 |  1.1000000000 |  0.000000E+00 |             f\n",
      "   182 |    14560 |      5 |  0.000000E+00 |  1.1000000000 |  0.000000E+00 |             f\n",
      "   183 |    14640 |      5 |  0.000000E+00 |  1.1000000000 |  0.000000E+00 |             f\n",
      "   184 |    14720 |      5 |  0.000000E+00 |  1.1000000000 |  0.000000E+00 |             f\n",
      "   185 |    14800 |      5 |  0.000000E+00 |  1.1000000000 |  0.000000E+00 |             f\n",
      "   186 |    14880 |      5 |  0.000000E+00 |  1.1000000000 |  0.000000E+00 |             f\n",
      "   187 |    14960 |      5 |  0.000000E+00 |  1.1000000000 |  0.000000E+00 |             f\n",
      "   188 |    15040 |      5 |  0.000000E+00 |  1.1000000000 |  0.000000E+00 |             f\n",
      "   189 |    15120 |      5 |  0.000000E+00 |  1.1000000000 |  0.000000E+00 |             f\n",
      "   190 |    15200 |      5 |  0.000000E+00 |  1.1000000000 |  0.000000E+00 |             f\n",
      "   191 |    15280 |      5 |  0.000000E+00 |  1.1000000000 |  0.000000E+00 |             f\n",
      "   192 |    15360 |      5 |  0.000000E+00 |  1.1000000000 |  0.000000E+00 |             f\n",
      "   193 |    15440 |      5 |  0.000000E+00 |  1.1000000000 |  0.000000E+00 |             f\n",
      "   194 |    15520 |      5 |  0.000000E+00 |  1.1000000000 |  0.000000E+00 |             f\n",
      "   195 |    15600 |      5 |  0.000000E+00 |  1.1000000000 |  0.000000E+00 |             f\n",
      "   196 |    15680 |      5 |  0.000000E+00 |  1.1000000000 |  0.000000E+00 |             f\n",
      "   197 |    15760 |      5 |  0.000000E+00 |  1.1000000000 |  0.000000E+00 |             f\n",
      "   198 |    15840 |      5 |  0.000000E+00 |  1.1000000000 |  0.000000E+00 |             f\n",
      "   199 |    15920 |      5 |  0.000000E+00 |  1.1000000000 |  0.000000E+00 |             f\n",
      "   200 |    16000 |      5 |  0.000000E+00 |  1.1000000000 |  0.000000E+00 |             f\n",
      "   201 |    16080 |      5 |  0.000000E+00 |  1.1000000000 |  0.000000E+00 |             f\n",
      "   202 |    16160 |      5 |  0.000000E+00 |  1.1000000000 |  0.000000E+00 |             f\n",
      "   203 |    16240 |      5 |  0.000000E+00 |  1.1000000000 |  0.000000E+00 |             f\n",
      "   204 |    16320 |      5 |  0.000000E+00 |  1.1000000000 |  0.000000E+00 |             f\n",
      "   205 |    16400 |      5 |  0.000000E+00 |  1.1000000000 |  0.000000E+00 |             f\n",
      "   206 |    16480 |      5 |  0.000000E+00 |  1.1000000000 |  0.000000E+00 |             f\n",
      "   207 |    16560 |      5 |  0.000000E+00 |  1.1000000000 |  0.000000E+00 |             f\n",
      "   208 |    16640 |      5 |  0.000000E+00 |  1.1000000000 |  0.000000E+00 |             f\n",
      "   209 |    16720 |      5 |  0.000000E+00 |  1.1000000000 |  0.000000E+00 |             f\n",
      "   210 |    16800 |      5 |  0.000000E+00 |  1.1000000000 |  0.000000E+00 |             f\n",
      "   211 |    16880 |      5 |  0.000000E+00 |  1.1000000000 |  0.000000E+00 |             f\n",
      "   212 |    16960 |      5 |  0.000000E+00 |  1.1000000000 |  0.000000E+00 |             f\n",
      "   213 |    17040 |      5 |  0.000000E+00 |  1.1000000000 |  0.000000E+00 |             f\n",
      "   214 |    17120 |      5 |  0.000000E+00 |  1.1000000000 |  0.000000E+00 |             f\n",
      "   215 |    17200 |      5 |  0.000000E+00 |  1.1000000000 |  0.000000E+00 |             f\n",
      "   216 |    17280 |      5 |  0.000000E+00 |  1.1000000000 |  0.000000E+00 |             f\n",
      "   217 |    17360 |      5 |  0.000000E+00 |  1.1000000000 |  0.000000E+00 |             f\n",
      "   218 |    17440 |      5 |  0.000000E+00 |  1.1000000000 |  0.000000E+00 |             f\n",
      "   219 |    17520 |      5 |  0.000000E+00 |  1.1000000000 |  0.000000E+00 |             f\n",
      "   220 |    17600 |      5 |  0.000000E+00 |  1.1000000000 |  0.000000E+00 |             f\n",
      "   221 |    17680 |      5 |  0.000000E+00 |  1.1000000000 |  0.000000E+00 |             f\n",
      "   222 |    17760 |      5 |  0.000000E+00 |  1.1000000000 |  0.000000E+00 |             f\n",
      "   223 |    17840 |      5 |  0.000000E+00 |  1.1000000000 |  0.000000E+00 |             f\n",
      "   224 |    17920 |      5 |  0.000000E+00 |  1.1000000000 |  0.000000E+00 |             f\n",
      "   225 |    18000 |      5 |  0.000000E+00 |  1.1000000000 |  0.000000E+00 |             f\n",
      "   226 |    18080 |      5 |  0.000000E+00 |  1.1000000000 |  0.000000E+00 |             f\n",
      "   227 |    18160 |      5 |  0.000000E+00 |  1.1000000000 |  0.000000E+00 |             f\n",
      "   228 |    18240 |      5 |  0.000000E+00 |  1.1000000000 |  0.000000E+00 |             f\n",
      "   229 |    18320 |      5 |  0.000000E+00 |  1.1000000000 |  0.000000E+00 |             f\n",
      "   230 |    18400 |      5 |  0.000000E+00 |  1.1000000000 |  0.000000E+00 |             f\n",
      "   231 |    18480 |      5 |  0.000000E+00 |  1.1000000000 |  0.000000E+00 |             f\n",
      "   232 |    18560 |      5 |  0.000000E+00 |  1.1000000000 |  0.000000E+00 |             f\n",
      "   233 |    18640 |      5 |  0.000000E+00 |  1.1000000000 |  0.000000E+00 |             f\n",
      "   234 |    18720 |      5 |  0.000000E+00 |  1.1000000000 |  0.000000E+00 |             f\n",
      "   235 |    18800 |      5 |  0.000000E+00 |  1.1000000000 |  0.000000E+00 |             f\n",
      "   236 |    18880 |      5 |  0.000000E+00 |  1.1000000000 |  0.000000E+00 |             f\n",
      "   237 |    18960 |      5 |  0.000000E+00 |  1.1000000000 |  0.000000E+00 |             f\n",
      "   238 |    19040 |      5 |  0.000000E+00 |  1.1000000000 |  0.000000E+00 |             f\n",
      "   239 |    19120 |      5 |  0.000000E+00 |  1.1000000000 |  0.000000E+00 |             f\n",
      "   240 |    19200 |      5 |  0.000000E+00 |  1.1000000000 |  0.000000E+00 |             f\n",
      "   241 |    19280 |      5 |  0.000000E+00 |  1.1000000000 |  0.000000E+00 |             f\n",
      "   242 |    19360 |      5 |  0.000000E+00 |  1.1000000000 |  0.000000E+00 |             f\n",
      "   243 |    19440 |      5 |  0.000000E+00 |  1.1000000000 |  0.000000E+00 |             f\n",
      "   244 |    19520 |      5 |  0.000000E+00 |  1.1000000000 |  0.000000E+00 |             f\n",
      "   245 |    19600 |      5 |  0.000000E+00 |  1.1000000000 |  0.000000E+00 |             f\n",
      "   246 |    19680 |      5 |  0.000000E+00 |  1.1000000000 |  0.000000E+00 |             f\n",
      "   247 |    19760 |      5 |  0.000000E+00 |  1.1000000000 |  0.000000E+00 |             f\n",
      "   248 |    19840 |      5 |  0.000000E+00 |  1.1000000000 |  0.000000E+00 |             f\n",
      "   249 |    19920 |      5 |  0.000000E+00 |  1.1000000000 |  0.000000E+00 |             f\n",
      "   250 |    20000 |      5 |  0.000000E+00 |  1.1000000000 |  0.000000E+00 |             f\n",
      "   251 |    20080 |      5 |  0.000000E+00 |  1.1000000000 |  0.000000E+00 |             f\n",
      "   252 |    20160 |      5 |  0.000000E+00 |  1.1000000000 |  0.000000E+00 |             f\n",
      "   253 |    20240 |      5 |  0.000000E+00 |  1.1000000000 |  0.000000E+00 |             f\n",
      "   254 |    20320 |      5 |  0.000000E+00 |  1.1000000000 |  0.000000E+00 |             f\n",
      "   255 |    20400 |      5 |  0.000000E+00 |  1.1000000000 |  0.000000E+00 |             f\n",
      "   256 |    20480 |      5 |  0.000000E+00 |  1.1000000000 |  0.000000E+00 |             f\n",
      "   257 |    20560 |      5 |  0.000000E+00 |  1.1000000000 |  0.000000E+00 |             f\n",
      "   258 |    20640 |      5 |  0.000000E+00 |  1.1000000000 |  0.000000E+00 |             f\n",
      "   259 |    20720 |      5 |  0.000000E+00 |  1.1000000000 |  0.000000E+00 |             f\n",
      "   260 |    20800 |      5 |  0.000000E+00 |  1.1000000000 |  0.000000E+00 |             f\n",
      "   261 |    20880 |      5 |  0.000000E+00 |  1.1000000000 |  0.000000E+00 |             f\n",
      "   262 |    20960 |      5 |  0.000000E+00 |  1.1000000000 |  0.000000E+00 |             f\n",
      "   263 |    21040 |      5 |  0.000000E+00 |  1.1000000000 |  0.000000E+00 |             f\n",
      "   264 |    21120 |      5 |  0.000000E+00 |  1.1000000000 |  0.000000E+00 |             f\n",
      "   265 |    21200 |      5 |  0.000000E+00 |  1.1000000000 |  0.000000E+00 |             f\n",
      "   266 |    21280 |      5 |  0.000000E+00 |  1.1000000000 |  0.000000E+00 |             f\n",
      "   267 |    21360 |      5 |  0.000000E+00 |  1.1000000000 |  0.000000E+00 |             f\n",
      "   268 |    21440 |      5 |  0.000000E+00 |  1.1000000000 |  0.000000E+00 |             f\n",
      "   269 |    21520 |      5 |  0.000000E+00 |  1.1000000000 |  0.000000E+00 |             f\n",
      "   270 |    21600 |      5 |  0.000000E+00 |  1.1000000000 |  0.000000E+00 |             f\n"
     ]
    },
    {
     "name": "stdout",
     "output_type": "stream",
     "text": [
      "   271 |    21680 |      5 |  0.000000E+00 |  1.1000000000 |  0.000000E+00 |             f\n",
      "   272 |    21760 |      5 |  0.000000E+00 |  1.1000000000 |  0.000000E+00 |             f\n",
      "   273 |    21840 |      5 |  0.000000E+00 |  1.1000000000 |  0.000000E+00 |             f\n",
      "   274 |    21920 |      5 |  0.000000E+00 |  1.1000000000 |  0.000000E+00 |             f\n",
      "   275 |    22000 |      5 |  0.000000E+00 |  1.1000000000 |  0.000000E+00 |             f\n",
      "   276 |    22080 |      5 |  0.000000E+00 |  1.1000000000 |  0.000000E+00 |             f\n",
      "   277 |    22160 |      5 |  0.000000E+00 |  1.1000000000 |  0.000000E+00 |             f\n",
      "   278 |    22240 |      5 |  0.000000E+00 |  1.1000000000 |  0.000000E+00 |             f\n",
      "   279 |    22320 |      5 |  0.000000E+00 |  1.1000000000 |  0.000000E+00 |             f\n",
      "   280 |    22400 |      5 |  0.000000E+00 |  1.1000000000 |  0.000000E+00 |             f\n",
      "   281 |    22480 |      5 |  0.000000E+00 |  1.1000000000 |  0.000000E+00 |             f\n",
      "   282 |    22560 |      5 |  0.000000E+00 |  1.1000000000 |  0.000000E+00 |             f\n",
      "   283 |    22640 |      5 |  0.000000E+00 |  1.1000000000 |  0.000000E+00 |             f\n",
      "   284 |    22720 |      5 |  0.000000E+00 |  1.1000000000 |  0.000000E+00 |             f\n",
      "   285 |    22800 |      5 |  0.000000E+00 |  1.1000000000 |  0.000000E+00 |             f\n",
      "   286 |    22880 |      5 |  0.000000E+00 |  1.1000000000 |  0.000000E+00 |             f\n",
      "   287 |    22960 |      5 |  0.000000E+00 |  1.1000000000 |  0.000000E+00 |             f\n",
      "   288 |    23040 |      5 |  0.000000E+00 |  1.1000000000 |  0.000000E+00 |             f\n",
      "   289 |    23120 |      5 |  0.000000E+00 |  1.1000000000 |  0.000000E+00 |             f\n",
      "   290 |    23200 |      5 |  0.000000E+00 |  1.1000000000 |  0.000000E+00 |             f\n",
      "   291 |    23280 |      5 |  0.000000E+00 |  1.1000000000 |  0.000000E+00 |             f\n",
      "   292 |    23360 |      5 |  0.000000E+00 |  1.1000000000 |  0.000000E+00 |             f\n",
      "   293 |    23440 |      5 |  0.000000E+00 |  1.1000000000 |  0.000000E+00 |             f\n",
      "   294 |    23520 |      5 |  0.000000E+00 |  1.1000000000 |  0.000000E+00 |             f\n",
      "   295 |    23600 |      5 |  0.000000E+00 |  1.1000000000 |  0.000000E+00 |             f\n",
      "   296 |    23680 |      5 |  0.000000E+00 |  1.1000000000 |  0.000000E+00 |             f\n",
      "   297 |    23760 |      5 |  0.000000E+00 |  1.1000000000 |  0.000000E+00 |             f\n",
      "   298 |    23840 |      5 |  0.000000E+00 |  1.1000000000 |  0.000000E+00 |             f\n",
      "   299 |    23920 |      5 |  0.000000E+00 |  1.1000000000 |  0.000000E+00 |             f\n",
      "   300 |    24000 |      5 |  0.000000E+00 |  1.1000000000 |  0.000000E+00 |             f\n",
      "   301 |    24080 |      5 |  0.000000E+00 |  1.1000000000 |  0.000000E+00 |             f\n",
      "   302 |    24160 |      5 |  0.000000E+00 |  1.1000000000 |  0.000000E+00 |             f\n",
      "   303 |    24240 |      5 |  0.000000E+00 |  1.1000000000 |  0.000000E+00 |             f\n",
      "   304 |    24320 |      5 |  0.000000E+00 |  1.1000000000 |  0.000000E+00 |             f\n",
      "   305 |    24400 |      5 |  0.000000E+00 |  1.1000000000 |  0.000000E+00 |             f\n",
      "   306 |    24480 |      5 |  0.000000E+00 |  1.1000000000 |  0.000000E+00 |             f\n",
      "   307 |    24560 |      5 |  0.000000E+00 |  1.1000000000 |  0.000000E+00 |             f\n",
      "   308 |    24640 |      5 |  0.000000E+00 |  1.1000000000 |  0.000000E+00 |             f\n",
      "   309 |    24720 |      5 |  0.000000E+00 |  1.1000000000 |  0.000000E+00 |             f\n",
      "   310 |    24800 |      5 |  0.000000E+00 |  1.1000000000 |  0.000000E+00 |             f\n",
      "   311 |    24880 |      5 |  0.000000E+00 |  1.1000000000 |  0.000000E+00 |             f\n",
      "   312 |    24960 |      5 |  0.000000E+00 |  1.1000000000 |  0.000000E+00 |             f\n",
      "   313 |    25040 |      5 |  0.000000E+00 |  1.1000000000 |  0.000000E+00 |             f\n",
      "   314 |    25120 |      5 |  0.000000E+00 |  1.1000000000 |  0.000000E+00 |             f\n",
      "   315 |    25200 |      5 |  0.000000E+00 |  1.1000000000 |  0.000000E+00 |             f\n",
      "   316 |    25280 |      5 |  0.000000E+00 |  1.1000000000 |  0.000000E+00 |             f\n",
      "   317 |    25360 |      5 |  0.000000E+00 |  1.1000000000 |  0.000000E+00 |             f\n",
      "   318 |    25440 |      5 |  0.000000E+00 |  1.1000000000 |  0.000000E+00 |             f\n",
      "   319 |    25520 |      5 |  0.000000E+00 |  1.1000000000 |  0.000000E+00 |             f\n",
      "   320 |    25600 |      5 |  0.000000E+00 |  1.1000000000 |  0.000000E+00 |             f\n",
      "   321 |    25680 |      5 |  0.000000E+00 |  1.1000000000 |  0.000000E+00 |             f\n",
      "   322 |    25760 |      5 |  0.000000E+00 |  1.1000000000 |  0.000000E+00 |             f\n",
      "   323 |    25840 |      5 |  0.000000E+00 |  1.1000000000 |  0.000000E+00 |             f\n",
      "   324 |    25920 |      5 |  0.000000E+00 |  1.1000000000 |  0.000000E+00 |             f\n",
      "   325 |    26000 |      5 |  0.000000E+00 |  1.1000000000 |  0.000000E+00 |             f\n",
      "   326 |    26080 |      5 |  0.000000E+00 |  1.1000000000 |  0.000000E+00 |             f\n",
      "   327 |    26160 |      5 |  0.000000E+00 |  1.1000000000 |  0.000000E+00 |             f\n",
      "   328 |    26240 |      5 |  0.000000E+00 |  1.1000000000 |  0.000000E+00 |             f\n",
      "   329 |    26320 |      5 |  0.000000E+00 |  1.1000000000 |  0.000000E+00 |             f\n",
      "   330 |    26400 |      5 |  0.000000E+00 |  1.1000000000 |  0.000000E+00 |             f\n",
      "   331 |    26480 |      5 |  0.000000E+00 |  1.1000000000 |  0.000000E+00 |             f\n",
      "   332 |    26560 |      5 |  0.000000E+00 |  1.1000000000 |  0.000000E+00 |             f\n",
      "   333 |    26640 |      5 |  0.000000E+00 |  1.1000000000 |  0.000000E+00 |             f\n",
      "   334 |    26720 |      5 |  0.000000E+00 |  1.1000000000 |  0.000000E+00 |             f\n",
      "   335 |    26800 |      5 |  0.000000E+00 |  1.1000000000 |  0.000000E+00 |             f\n",
      "   336 |    26880 |      5 |  0.000000E+00 |  1.1000000000 |  0.000000E+00 |             f\n",
      "   337 |    26960 |      5 |  0.000000E+00 |  1.1000000000 |  0.000000E+00 |             f\n",
      "   338 |    27040 |      5 |  0.000000E+00 |  1.1000000000 |  0.000000E+00 |             f\n",
      "   339 |    27120 |      5 |  0.000000E+00 |  1.1000000000 |  0.000000E+00 |             f\n",
      "   340 |    27200 |      5 |  0.000000E+00 |  1.1000000000 |  0.000000E+00 |             f\n",
      "   341 |    27280 |      5 |  0.000000E+00 |  1.1000000000 |  0.000000E+00 |             f\n",
      "   342 |    27360 |      5 |  0.000000E+00 |  1.1000000000 |  0.000000E+00 |             f\n",
      "   343 |    27440 |      5 |  0.000000E+00 |  1.1000000000 |  0.000000E+00 |             f\n",
      "   344 |    27520 |      5 |  0.000000E+00 |  1.1000000000 |  0.000000E+00 |             f\n",
      "   345 |    27600 |      5 |  0.000000E+00 |  1.1000000000 |  0.000000E+00 |             f\n",
      "   346 |    27680 |      5 |  0.000000E+00 |  1.1000000000 |  0.000000E+00 |             f\n",
      "   347 |    27760 |      5 |  0.000000E+00 |  1.1000000000 |  0.000000E+00 |             f\n",
      "   348 |    27840 |      5 |  0.000000E+00 |  1.1000000000 |  0.000000E+00 |             f\n",
      "   349 |    27920 |      5 |  0.000000E+00 |  1.1000000000 |  0.000000E+00 |             f\n",
      "   350 |    28000 |      5 |  0.000000E+00 |  1.1000000000 |  0.000000E+00 |             f\n",
      "   351 |    28080 |      5 |  0.000000E+00 |  1.1000000000 |  0.000000E+00 |             f\n",
      "   352 |    28160 |      5 |  0.000000E+00 |  1.1000000000 |  0.000000E+00 |             f\n",
      "   353 |    28240 |      5 |  0.000000E+00 |  1.1000000000 |  0.000000E+00 |             f\n",
      "   354 |    28320 |      5 |  0.000000E+00 |  1.1000000000 |  0.000000E+00 |             f\n",
      "   355 |    28400 |      5 |  0.000000E+00 |  1.1000000000 |  0.000000E+00 |             f\n",
      "   356 |    28480 |      5 |  0.000000E+00 |  1.1000000000 |  0.000000E+00 |             f\n",
      "   357 |    28560 |      5 |  0.000000E+00 |  1.1000000000 |  0.000000E+00 |             f\n",
      "   358 |    28640 |      5 |  0.000000E+00 |  1.1000000000 |  0.000000E+00 |             f\n",
      "   359 |    28720 |      5 |  0.000000E+00 |  1.1000000000 |  0.000000E+00 |             f\n",
      "   360 |    28800 |      5 |  0.000000E+00 |  1.1000000000 |  0.000000E+00 |             f\n",
      "   361 |    28880 |      5 |  0.000000E+00 |  1.1000000000 |  0.000000E+00 |             f\n"
     ]
    },
    {
     "name": "stdout",
     "output_type": "stream",
     "text": [
      "   362 |    28960 |      5 |  0.000000E+00 |  1.1000000000 |  0.000000E+00 |             f\n",
      "   363 |    29040 |      5 |  0.000000E+00 |  1.1000000000 |  0.000000E+00 |             f\n",
      "   364 |    29120 |      5 |  0.000000E+00 |  1.1000000000 |  0.000000E+00 |             f\n",
      "   365 |    29200 |      5 |  0.000000E+00 |  1.1000000000 |  0.000000E+00 |             f\n",
      "   366 |    29280 |      5 |  0.000000E+00 |  1.1000000000 |  0.000000E+00 |             f\n",
      "   367 |    29360 |      5 |  0.000000E+00 |  1.1000000000 |  0.000000E+00 |             f\n",
      "   368 |    29440 |      5 |  0.000000E+00 |  1.1000000000 |  0.000000E+00 |             f\n",
      "   369 |    29520 |      5 |  0.000000E+00 |  1.1000000000 |  0.000000E+00 |             f\n",
      "   370 |    29600 |      5 |  0.000000E+00 |  1.1000000000 |  0.000000E+00 |             f\n",
      "   371 |    29680 |      5 |  0.000000E+00 |  1.1000000000 |  0.000000E+00 |             f\n",
      "   372 |    29760 |      5 |  0.000000E+00 |  1.1000000000 |  0.000000E+00 |             f\n",
      "   373 |    29840 |      5 |  0.000000E+00 |  1.1000000000 |  0.000000E+00 |             f\n",
      "   374 |    29920 |      5 |  0.000000E+00 |  1.1000000000 |  0.000000E+00 |             f\n",
      "   375 |    30000 |      5 |  0.000000E+00 |  1.1000000000 |  0.000000E+00 |             f\n",
      "   376 |    30080 |      5 |  0.000000E+00 |  1.1000000000 |  0.000000E+00 |             f\n",
      "   377 |    30160 |      5 |  0.000000E+00 |  1.1000000000 |  0.000000E+00 |             f\n",
      "   378 |    30240 |      5 |  0.000000E+00 |  1.1000000000 |  0.000000E+00 |             f\n",
      "   379 |    30320 |      5 |  0.000000E+00 |  1.1000000000 |  0.000000E+00 |             f\n",
      "   380 |    30400 |      5 |  0.000000E+00 |  1.1000000000 |  0.000000E+00 |             f\n",
      "   381 |    30480 |      5 |  0.000000E+00 |  1.1000000000 |  0.000000E+00 |             f\n",
      "   382 |    30560 |      5 |  0.000000E+00 |  1.1000000000 |  0.000000E+00 |             f\n",
      "   383 |    30640 |      5 |  0.000000E+00 |  1.1000000000 |  0.000000E+00 |             f\n",
      "   384 |    30720 |      5 |  0.000000E+00 |  1.1000000000 |  0.000000E+00 |             f\n",
      "   385 |    30800 |      5 |  0.000000E+00 |  1.1000000000 |  0.000000E+00 |             f\n",
      "   386 |    30880 |      5 |  0.000000E+00 |  1.1000000000 |  0.000000E+00 |             f\n",
      "   387 |    30960 |      5 |  0.000000E+00 |  1.1000000000 |  0.000000E+00 |             f\n",
      "   388 |    31040 |      5 |  0.000000E+00 |  1.1000000000 |  0.000000E+00 |             f\n",
      "   389 |    31120 |      5 |  0.000000E+00 |  1.1000000000 |  0.000000E+00 |             f\n",
      "   390 |    31200 |      5 |  0.000000E+00 |  1.1000000000 |  0.000000E+00 |             f\n",
      "   391 |    31280 |      5 |  0.000000E+00 |  1.1000000000 |  0.000000E+00 |             f\n",
      "   392 |    31360 |      5 |  0.000000E+00 |  1.1000000000 |  0.000000E+00 |             f\n",
      "   393 |    31440 |      5 |  0.000000E+00 |  1.1000000000 |  0.000000E+00 |             f\n",
      "   394 |    31520 |      5 |  0.000000E+00 |  1.1000000000 |  0.000000E+00 |             f\n",
      "   395 |    31600 |      5 |  0.000000E+00 |  1.1000000000 |  0.000000E+00 |             f\n",
      "   396 |    31680 |      5 |  0.000000E+00 |  1.1000000000 |  0.000000E+00 |             f\n",
      "   397 |    31760 |      5 |  0.000000E+00 |  1.1000000000 |  0.000000E+00 |             f\n",
      "   398 |    31840 |      5 |  0.000000E+00 |  1.1000000000 |  0.000000E+00 |             f\n",
      "   399 |    31920 |      5 |  0.000000E+00 |  1.1000000000 |  0.000000E+00 |             f\n",
      "   400 |    32000 |      5 |  0.000000E+00 |  1.1000000000 |  0.000000E+00 |             f\n",
      "   401 |    32080 |      5 |  0.000000E+00 |  1.1000000000 |  0.000000E+00 |             f\n",
      "   402 |    32160 |      5 |  0.000000E+00 |  1.1000000000 |  0.000000E+00 |             f\n",
      "   403 |    32240 |      5 |  0.000000E+00 |  1.1000000000 |  0.000000E+00 |             f\n",
      "   404 |    32320 |      5 |  0.000000E+00 |  1.1000000000 |  0.000000E+00 |             f\n",
      "   405 |    32400 |      5 |  0.000000E+00 |  1.1000000000 |  0.000000E+00 |             f\n",
      "   406 |    32480 |      5 |  0.000000E+00 |  1.1000000000 |  0.000000E+00 |             f\n",
      "   407 |    32560 |      5 |  0.000000E+00 |  1.1000000000 |  0.000000E+00 |             f\n",
      "   408 |    32640 |      5 |  0.000000E+00 |  1.1000000000 |  0.000000E+00 |             f\n",
      "   409 |    32720 |      5 |  0.000000E+00 |  1.1000000000 |  0.000000E+00 |             f\n",
      "   410 |    32800 |      5 |  0.000000E+00 |  1.1000000000 |  0.000000E+00 |             f\n",
      "   411 |    32880 |      5 |  0.000000E+00 |  1.1000000000 |  0.000000E+00 |             f\n",
      "   412 |    32960 |      5 |  0.000000E+00 |  1.1000000000 |  0.000000E+00 |             f\n",
      "   413 |    33040 |      5 |  0.000000E+00 |  1.1000000000 |  0.000000E+00 |             f\n",
      "   414 |    33120 |      5 |  0.000000E+00 |  1.1000000000 |  0.000000E+00 |             f\n",
      "   415 |    33200 |      5 |  0.000000E+00 |  1.1000000000 |  0.000000E+00 |             f\n",
      "   416 |    33280 |      5 |  0.000000E+00 |  1.1000000000 |  0.000000E+00 |             f\n",
      "   417 |    33360 |      5 |  0.000000E+00 |  1.1000000000 |  0.000000E+00 |             f\n",
      "   418 |    33440 |      5 |  0.000000E+00 |  1.1000000000 |  0.000000E+00 |             f\n",
      "   419 |    33520 |      5 |  0.000000E+00 |  1.1000000000 |  0.000000E+00 |             f\n",
      "   420 |    33600 |      5 |  0.000000E+00 |  1.1000000000 |  0.000000E+00 |             f\n",
      "   421 |    33680 |      5 |  0.000000E+00 |  1.1000000000 |  0.000000E+00 |             f\n",
      "   422 |    33760 |      5 |  0.000000E+00 |  1.1000000000 |  0.000000E+00 |             f\n",
      "   423 |    33840 |      5 |  0.000000E+00 |  1.1000000000 |  0.000000E+00 |             f\n",
      "   424 |    33920 |      5 |  0.000000E+00 |  1.1000000000 |  0.000000E+00 |             f\n",
      "   425 |    34000 |      5 |  0.000000E+00 |  1.1000000000 |  0.000000E+00 |             f\n",
      "   426 |    34080 |      5 |  0.000000E+00 |  1.1000000000 |  0.000000E+00 |             f\n",
      "   427 |    34160 |      5 |  0.000000E+00 |  1.1000000000 |  0.000000E+00 |             f\n",
      "   428 |    34240 |      5 |  0.000000E+00 |  1.1000000000 |  0.000000E+00 |             f\n",
      "   429 |    34320 |      5 |  0.000000E+00 |  1.1000000000 |  0.000000E+00 |             f\n",
      "   430 |    34400 |      5 |  0.000000E+00 |  1.1000000000 |  0.000000E+00 |             f\n",
      "   431 |    34480 |      5 |  0.000000E+00 |  1.1000000000 |  0.000000E+00 |             f\n",
      "   432 |    34560 |      5 |  0.000000E+00 |  1.1000000000 |  0.000000E+00 |             f\n",
      "   433 |    34640 |      5 |  0.000000E+00 |  1.1000000000 |  0.000000E+00 |             f\n",
      "   434 |    34720 |      5 |  0.000000E+00 |  1.1000000000 |  0.000000E+00 |             f\n",
      "   435 |    34800 |      5 |  0.000000E+00 |  1.1000000000 |  0.000000E+00 |             f\n",
      "   436 |    34880 |      5 |  0.000000E+00 |  1.1000000000 |  0.000000E+00 |             f\n",
      "   437 |    34960 |      5 |  0.000000E+00 |  1.1000000000 |  0.000000E+00 |             f\n",
      "   438 |    35040 |      5 |  0.000000E+00 |  1.1000000000 |  0.000000E+00 |             f\n",
      "   439 |    35120 |      5 |  0.000000E+00 |  1.1000000000 |  0.000000E+00 |             f\n",
      "   440 |    35200 |      5 |  0.000000E+00 |  1.1000000000 |  0.000000E+00 |             f\n",
      "   441 |    35280 |      5 |  0.000000E+00 |  1.1000000000 |  0.000000E+00 |             f\n",
      "   442 |    35360 |      5 |  0.000000E+00 |  1.1000000000 |  0.000000E+00 |             f\n",
      "   443 |    35440 |      5 |  0.000000E+00 |  1.1000000000 |  0.000000E+00 |             f\n",
      "   444 |    35520 |      5 |  0.000000E+00 |  1.1000000000 |  0.000000E+00 |             f\n",
      "   445 |    35600 |      5 |  0.000000E+00 |  1.1000000000 |  0.000000E+00 |             f\n",
      "   446 |    35680 |      5 |  0.000000E+00 |  1.1000000000 |  0.000000E+00 |             f\n",
      "   447 |    35760 |      5 |  0.000000E+00 |  1.1000000000 |  0.000000E+00 |             f\n",
      "   448 |    35840 |      5 |  0.000000E+00 |  1.1000000000 |  0.000000E+00 |             f\n",
      "   449 |    35920 |      5 |  0.000000E+00 |  1.1000000000 |  0.000000E+00 |             f\n",
      "   450 |    36000 |      5 |  0.000000E+00 |  1.1000000000 |  0.000000E+00 |             f\n",
      "   451 |    36080 |      5 |  0.000000E+00 |  1.1000000000 |  0.000000E+00 |             f\n",
      "   452 |    36160 |      5 |  0.000000E+00 |  1.1000000000 |  0.000000E+00 |             f\n",
      "   453 |    36240 |      5 |  0.000000E+00 |  1.1000000000 |  0.000000E+00 |             f\n"
     ]
    },
    {
     "name": "stdout",
     "output_type": "stream",
     "text": [
      "   454 |    36320 |      5 |  0.000000E+00 |  1.1000000000 |  0.000000E+00 |             f\n",
      "   455 |    36400 |      5 |  0.000000E+00 |  1.1000000000 |  0.000000E+00 |             f\n",
      "   456 |    36480 |      5 |  0.000000E+00 |  1.1000000000 |  0.000000E+00 |             f\n",
      "   457 |    36560 |      5 |  0.000000E+00 |  1.1000000000 |  0.000000E+00 |             f\n",
      "   458 |    36640 |      5 |  0.000000E+00 |  1.1000000000 |  0.000000E+00 |             f\n",
      "   459 |    36720 |      5 |  0.000000E+00 |  1.1000000000 |  0.000000E+00 |             f\n",
      "   460 |    36800 |      5 |  0.000000E+00 |  1.1000000000 |  0.000000E+00 |             f\n",
      "   461 |    36880 |      5 |  0.000000E+00 |  1.1000000000 |  0.000000E+00 |             f\n",
      "   462 |    36960 |      5 |  0.000000E+00 |  1.1000000000 |  0.000000E+00 |             f\n",
      "   463 |    37040 |      5 |  0.000000E+00 |  1.1000000000 |  0.000000E+00 |             f\n",
      "   464 |    37120 |      5 |  0.000000E+00 |  1.1000000000 |  0.000000E+00 |             f\n",
      "   465 |    37200 |      5 |  0.000000E+00 |  1.1000000000 |  0.000000E+00 |             f\n",
      "   466 |    37280 |      5 |  0.000000E+00 |  1.1000000000 |  0.000000E+00 |             f\n",
      "   467 |    37360 |      5 |  0.000000E+00 |  1.1000000000 |  0.000000E+00 |             f\n",
      "   468 |    37440 |      5 |  0.000000E+00 |  1.1000000000 |  0.000000E+00 |             f\n",
      "   469 |    37520 |      5 |  0.000000E+00 |  1.1000000000 |  0.000000E+00 |             f\n",
      "   470 |    37600 |      5 |  0.000000E+00 |  1.1000000000 |  0.000000E+00 |             f\n",
      "   471 |    37680 |      5 |  0.000000E+00 |  1.1000000000 |  0.000000E+00 |             f\n",
      "   472 |    37760 |      5 |  0.000000E+00 |  1.1000000000 |  0.000000E+00 |             f\n",
      "   473 |    37840 |      5 |  0.000000E+00 |  1.1000000000 |  0.000000E+00 |             f\n",
      "   474 |    37920 |      5 |  0.000000E+00 |  1.1000000000 |  0.000000E+00 |             f\n",
      "   475 |    38000 |      5 |  0.000000E+00 |  1.1000000000 |  0.000000E+00 |             f\n",
      "   476 |    38080 |      5 |  0.000000E+00 |  1.1000000000 |  0.000000E+00 |             f\n",
      "   477 |    38160 |      5 |  0.000000E+00 |  1.1000000000 |  0.000000E+00 |             f\n",
      "   478 |    38240 |      5 |  0.000000E+00 |  1.1000000000 |  0.000000E+00 |             f\n",
      "   479 |    38320 |      5 |  0.000000E+00 |  1.1000000000 |  0.000000E+00 |             f\n",
      "   480 |    38400 |      5 |  0.000000E+00 |  1.1000000000 |  0.000000E+00 |             f\n",
      "   481 |    38480 |      5 |  0.000000E+00 |  1.1000000000 |  0.000000E+00 |             f\n",
      "   482 |    38560 |      5 |  0.000000E+00 |  1.1000000000 |  0.000000E+00 |             f\n",
      "   483 |    38640 |      5 |  0.000000E+00 |  1.1000000000 |  0.000000E+00 |             f\n",
      "   484 |    38720 |      5 |  0.000000E+00 |  1.1000000000 |  0.000000E+00 |             f\n",
      "   485 |    38800 |      5 |  0.000000E+00 |  1.1000000000 |  0.000000E+00 |             f\n",
      "   486 |    38880 |      5 |  0.000000E+00 |  1.1000000000 |  0.000000E+00 |             f\n",
      "   487 |    38960 |      5 |  0.000000E+00 |  1.1000000000 |  0.000000E+00 |             f\n",
      "   488 |    39040 |      5 |  0.000000E+00 |  1.1000000000 |  0.000000E+00 |             f\n",
      "   489 |    39120 |      5 |  0.000000E+00 |  1.1000000000 |  0.000000E+00 |             f\n",
      "   490 |    39200 |      5 |  0.000000E+00 |  1.1000000000 |  0.000000E+00 |             f\n",
      "   491 |    39280 |      5 |  0.000000E+00 |  1.1000000000 |  0.000000E+00 |             f\n",
      "   492 |    39360 |      5 |  0.000000E+00 |  1.1000000000 |  0.000000E+00 |             f\n",
      "   493 |    39440 |      5 |  0.000000E+00 |  1.1000000000 |  0.000000E+00 |             f\n",
      "   494 |    39520 |      5 |  0.000000E+00 |  1.1000000000 |  0.000000E+00 |             f\n",
      "   495 |    39600 |      5 |  0.000000E+00 |  1.1000000000 |  0.000000E+00 |             f\n",
      "   496 |    39680 |      5 |  0.000000E+00 |  1.1000000000 |  0.000000E+00 |             f\n",
      "   497 |    39760 |      5 |  0.000000E+00 |  1.1000000000 |  0.000000E+00 |             f\n",
      "   498 |    39840 |      5 |  0.000000E+00 |  1.1000000000 |  0.000000E+00 |             f\n",
      "   499 |    39920 |      5 |  0.000000E+00 |  1.1000000000 |  0.000000E+00 |             f\n",
      "   500 |    40000 |      5 |  0.000000E+00 |  1.1000000000 |  0.000000E+00 |             f\n"
     ]
    }
   ],
   "source": [
    "import warnings\n",
    "warnings.filterwarnings(\"ignore\")\n",
    "\n",
    "instance = minimize(problem1,\n",
    "                    algorithm_nsga2,\n",
    "                    ('n_gen', 500),\n",
    "                    seed= 1, \n",
    "                    verbose=True)"
   ]
  },
  {
   "cell_type": "markdown",
   "metadata": {},
   "source": [
    "## UNSGA 3"
   ]
  },
  {
   "cell_type": "code",
   "execution_count": 32,
   "metadata": {
    "ExecuteTime": {
     "end_time": "2023-09-27T10:39:54.669293Z",
     "start_time": "2023-09-27T10:39:51.933071Z"
    }
   },
   "outputs": [],
   "source": [
    "ref_dirs = get_reference_directions(\"energy\", 2, 80)\n",
    "algorithm_unsga3 = UNSGA3(pop_size=80, sampling = MySampling(),\n",
    "      crossover = SBX(prob=0.1),\n",
    "      mutation = InversionMutation(prob=0.25),\n",
    "      ref_dirs = ref_dirs,\n",
    "      eliminate_duplicates=True)"
   ]
  },
  {
   "cell_type": "markdown",
   "metadata": {},
   "source": [
    "## SMS-EMOA"
   ]
  },
  {
   "cell_type": "code",
   "execution_count": null,
   "metadata": {},
   "outputs": [],
   "source": [
    "algorithm_sms = SMSEMOA(pop_size=50, sampling = MySampling(),\n",
    "      crossover = SBX(prob=0.1),\n",
    "      mutation = InversionMutation(prob=0.25),\n",
    "      eliminate_duplicates=True)"
   ]
  },
  {
   "cell_type": "markdown",
   "metadata": {},
   "source": [
    "## SPEA 2"
   ]
  },
  {
   "cell_type": "code",
   "execution_count": 47,
   "metadata": {
    "ExecuteTime": {
     "end_time": "2023-09-27T13:44:41.568676Z",
     "start_time": "2023-09-27T13:44:41.557368Z"
    },
    "colab": {
     "base_uri": "https://localhost:8080/"
    },
    "id": "knLwypg8Kl9q",
    "outputId": "9e6451c4-b09b-4047-8c57-4513d1ad8b3c"
   },
   "outputs": [],
   "source": [
    "algorithm_spea2 = SPEA2(pop_size=50, sampling = MySampling(),\n",
    "      crossover = SBX(prob=0.1),\n",
    "      mutation = InversionMutation(prob=0.25),\n",
    "      eliminate_duplicates=True)"
   ]
  },
  {
   "cell_type": "code",
   "execution_count": 48,
   "metadata": {
    "ExecuteTime": {
     "end_time": "2023-09-27T13:46:59.660673Z",
     "start_time": "2023-09-27T13:44:43.038839Z"
    }
   },
   "outputs": [
    {
     "name": "stdout",
     "output_type": "stream",
     "text": [
      "==========================================================================================\n",
      "n_gen  |  n_eval  | n_nds  |     cv_min    |     cv_avg    |      eps      |   indicator  \n",
      "==========================================================================================\n",
      "     1 |       50 |      1 |  2.0000000000 |  9.0000000000 |             - |             -\n",
      "     2 |      100 |      1 |  2.0000000000 |  6.7200000000 |             - |             -\n",
      "     3 |      150 |      1 |  0.000000E+00 |  5.1600000000 |             - |             -\n",
      "     4 |      200 |      1 |  0.000000E+00 |  3.9600000000 |  0.3000000000 |         ideal\n",
      "     5 |      250 |      1 |  0.000000E+00 |  2.8400000000 |  0.000000E+00 |             f\n",
      "     6 |      300 |      1 |  0.000000E+00 |  2.3600000000 |  0.000000E+00 |             f\n",
      "     7 |      350 |      2 |  0.000000E+00 |  1.6800000000 |  1.0000000000 |         ideal\n",
      "     8 |      400 |      3 |  0.000000E+00 |  1.6000000000 |  0.4707543730 |         ideal\n",
      "     9 |      450 |      2 |  0.000000E+00 |  1.4400000000 |  0.3094387330 |         ideal\n",
      "    10 |      500 |      2 |  0.000000E+00 |  1.2800000000 |  0.000000E+00 |             f\n",
      "    11 |      550 |      2 |  0.000000E+00 |  1.2400000000 |  0.000000E+00 |             f\n",
      "    12 |      600 |      4 |  0.000000E+00 |  1.0800000000 |  0.4000000000 |         ideal\n",
      "    13 |      650 |      4 |  0.000000E+00 |  1.0000000000 |  0.000000E+00 |             f\n",
      "    14 |      700 |      4 |  0.000000E+00 |  0.8800000000 |  0.000000E+00 |             f\n",
      "    15 |      750 |      4 |  0.000000E+00 |  0.8000000000 |  0.000000E+00 |             f\n",
      "    16 |      800 |      4 |  0.000000E+00 |  0.7200000000 |  0.000000E+00 |             f\n",
      "    17 |      850 |      4 |  0.000000E+00 |  0.6800000000 |  0.000000E+00 |             f\n",
      "    18 |      900 |      4 |  0.000000E+00 |  0.6800000000 |  0.000000E+00 |             f\n",
      "    19 |      950 |      4 |  0.000000E+00 |  0.6800000000 |  0.000000E+00 |             f\n",
      "    20 |     1000 |      5 |  0.000000E+00 |  0.6400000000 |  0.1150569632 |         ideal\n",
      "    21 |     1050 |      5 |  0.000000E+00 |  0.6000000000 |  0.000000E+00 |             f\n",
      "    22 |     1100 |      5 |  0.000000E+00 |  0.6000000000 |  0.000000E+00 |             f\n",
      "    23 |     1150 |      5 |  0.000000E+00 |  0.6000000000 |  0.000000E+00 |             f\n",
      "    24 |     1200 |      5 |  0.000000E+00 |  0.6000000000 |  0.000000E+00 |             f\n",
      "    25 |     1250 |      5 |  0.000000E+00 |  0.6000000000 |  0.000000E+00 |             f\n",
      "    26 |     1300 |      5 |  0.000000E+00 |  0.6000000000 |  0.000000E+00 |             f\n",
      "    27 |     1350 |      5 |  0.000000E+00 |  0.6000000000 |  0.000000E+00 |             f\n",
      "    28 |     1400 |      5 |  0.000000E+00 |  0.6000000000 |  0.000000E+00 |             f\n",
      "    29 |     1450 |      5 |  0.000000E+00 |  0.5600000000 |  0.000000E+00 |             f\n",
      "    30 |     1500 |      5 |  0.000000E+00 |  0.5600000000 |  0.000000E+00 |             f\n",
      "    31 |     1550 |      5 |  0.000000E+00 |  0.5600000000 |  0.000000E+00 |             f\n",
      "    32 |     1600 |      5 |  0.000000E+00 |  0.5600000000 |  0.000000E+00 |             f\n",
      "    33 |     1650 |      5 |  0.000000E+00 |  0.5600000000 |  0.000000E+00 |             f\n",
      "    34 |     1700 |      5 |  0.000000E+00 |  0.5600000000 |  0.000000E+00 |             f\n",
      "    35 |     1750 |      5 |  0.000000E+00 |  0.5600000000 |  0.000000E+00 |             f\n",
      "    36 |     1800 |      5 |  0.000000E+00 |  0.5600000000 |  0.000000E+00 |             f\n",
      "    37 |     1850 |      5 |  0.000000E+00 |  0.5600000000 |  0.000000E+00 |             f\n",
      "    38 |     1900 |      5 |  0.000000E+00 |  0.5600000000 |  0.000000E+00 |             f\n",
      "    39 |     1950 |      5 |  0.000000E+00 |  0.5600000000 |  0.000000E+00 |             f\n",
      "    40 |     2000 |      5 |  0.000000E+00 |  0.5600000000 |  0.000000E+00 |             f\n",
      "    41 |     2050 |      5 |  0.000000E+00 |  0.5600000000 |  0.000000E+00 |             f\n",
      "    42 |     2100 |      5 |  0.000000E+00 |  0.5600000000 |  0.000000E+00 |             f\n",
      "    43 |     2150 |      5 |  0.000000E+00 |  0.5600000000 |  0.000000E+00 |             f\n",
      "    44 |     2200 |      5 |  0.000000E+00 |  0.5600000000 |  0.000000E+00 |             f\n",
      "    45 |     2250 |      5 |  0.000000E+00 |  0.5600000000 |  0.000000E+00 |             f\n",
      "    46 |     2300 |      5 |  0.000000E+00 |  0.5600000000 |  0.000000E+00 |             f\n",
      "    47 |     2350 |      5 |  0.000000E+00 |  0.5600000000 |  0.000000E+00 |             f\n",
      "    48 |     2400 |      5 |  0.000000E+00 |  0.5600000000 |  0.000000E+00 |             f\n",
      "    49 |     2450 |      5 |  0.000000E+00 |  0.5600000000 |  0.000000E+00 |             f\n",
      "    50 |     2500 |      5 |  0.000000E+00 |  0.5600000000 |  0.000000E+00 |             f\n",
      "    51 |     2550 |      5 |  0.000000E+00 |  0.5600000000 |  0.000000E+00 |             f\n",
      "    52 |     2600 |      5 |  0.000000E+00 |  0.5600000000 |  0.000000E+00 |             f\n",
      "    53 |     2650 |      5 |  0.000000E+00 |  0.5600000000 |  0.000000E+00 |             f\n",
      "    54 |     2700 |      5 |  0.000000E+00 |  0.5600000000 |  0.000000E+00 |             f\n",
      "    55 |     2750 |      5 |  0.000000E+00 |  0.5600000000 |  0.000000E+00 |             f\n",
      "    56 |     2800 |      5 |  0.000000E+00 |  0.5600000000 |  0.000000E+00 |             f\n",
      "    57 |     2850 |      5 |  0.000000E+00 |  0.5600000000 |  0.000000E+00 |             f\n",
      "    58 |     2900 |      5 |  0.000000E+00 |  0.5600000000 |  0.000000E+00 |             f\n",
      "    59 |     2950 |      5 |  0.000000E+00 |  0.5600000000 |  0.000000E+00 |             f\n",
      "    60 |     3000 |      5 |  0.000000E+00 |  0.5600000000 |  0.000000E+00 |             f\n",
      "    61 |     3050 |      5 |  0.000000E+00 |  0.5600000000 |  0.000000E+00 |             f\n",
      "    62 |     3100 |      5 |  0.000000E+00 |  0.5600000000 |  0.000000E+00 |             f\n",
      "    63 |     3150 |      5 |  0.000000E+00 |  0.5600000000 |  0.000000E+00 |             f\n",
      "    64 |     3200 |      5 |  0.000000E+00 |  0.5600000000 |  0.000000E+00 |             f\n",
      "    65 |     3250 |      5 |  0.000000E+00 |  0.5600000000 |  0.000000E+00 |             f\n",
      "    66 |     3300 |      5 |  0.000000E+00 |  0.5600000000 |  0.000000E+00 |             f\n",
      "    67 |     3350 |      5 |  0.000000E+00 |  0.5600000000 |  0.000000E+00 |             f\n",
      "    68 |     3400 |      5 |  0.000000E+00 |  0.5600000000 |  0.000000E+00 |             f\n",
      "    69 |     3450 |      5 |  0.000000E+00 |  0.5600000000 |  0.000000E+00 |             f\n",
      "    70 |     3500 |      5 |  0.000000E+00 |  0.5600000000 |  0.000000E+00 |             f\n",
      "    71 |     3550 |      5 |  0.000000E+00 |  0.5600000000 |  0.000000E+00 |             f\n",
      "    72 |     3600 |      5 |  0.000000E+00 |  0.5600000000 |  0.000000E+00 |             f\n",
      "    73 |     3650 |      5 |  0.000000E+00 |  0.5600000000 |  0.000000E+00 |             f\n",
      "    74 |     3700 |      5 |  0.000000E+00 |  0.5600000000 |  0.000000E+00 |             f\n",
      "    75 |     3750 |      5 |  0.000000E+00 |  0.5600000000 |  0.000000E+00 |             f\n",
      "    76 |     3800 |      5 |  0.000000E+00 |  0.5600000000 |  0.000000E+00 |             f\n",
      "    77 |     3850 |      5 |  0.000000E+00 |  0.5600000000 |  0.000000E+00 |             f\n",
      "    78 |     3900 |      5 |  0.000000E+00 |  0.5600000000 |  0.000000E+00 |             f\n",
      "    79 |     3950 |      5 |  0.000000E+00 |  0.5600000000 |  0.000000E+00 |             f\n",
      "    80 |     4000 |      5 |  0.000000E+00 |  0.5600000000 |  0.000000E+00 |             f\n",
      "    81 |     4050 |      5 |  0.000000E+00 |  0.5600000000 |  0.000000E+00 |             f\n",
      "    82 |     4100 |      5 |  0.000000E+00 |  0.5600000000 |  0.000000E+00 |             f\n",
      "    83 |     4150 |      5 |  0.000000E+00 |  0.5600000000 |  0.000000E+00 |             f\n",
      "    84 |     4200 |      5 |  0.000000E+00 |  0.5600000000 |  0.000000E+00 |             f\n",
      "    85 |     4250 |      5 |  0.000000E+00 |  0.5600000000 |  0.000000E+00 |             f\n",
      "    86 |     4300 |      5 |  0.000000E+00 |  0.5600000000 |  0.000000E+00 |             f\n",
      "    87 |     4350 |      5 |  0.000000E+00 |  0.5600000000 |  0.000000E+00 |             f\n",
      "    88 |     4400 |      5 |  0.000000E+00 |  0.5600000000 |  0.000000E+00 |             f\n"
     ]
    },
    {
     "name": "stdout",
     "output_type": "stream",
     "text": [
      "    89 |     4450 |      5 |  0.000000E+00 |  0.5600000000 |  0.000000E+00 |             f\n",
      "    90 |     4500 |      5 |  0.000000E+00 |  0.5600000000 |  0.000000E+00 |             f\n",
      "    91 |     4550 |      5 |  0.000000E+00 |  0.5600000000 |  0.000000E+00 |             f\n",
      "    92 |     4600 |      5 |  0.000000E+00 |  0.5600000000 |  0.000000E+00 |             f\n",
      "    93 |     4650 |      5 |  0.000000E+00 |  0.5600000000 |  0.000000E+00 |             f\n",
      "    94 |     4700 |      5 |  0.000000E+00 |  0.5600000000 |  0.000000E+00 |             f\n",
      "    95 |     4750 |      5 |  0.000000E+00 |  0.5600000000 |  0.000000E+00 |             f\n",
      "    96 |     4800 |      5 |  0.000000E+00 |  0.5600000000 |  0.000000E+00 |             f\n",
      "    97 |     4850 |      5 |  0.000000E+00 |  0.5600000000 |  0.000000E+00 |             f\n",
      "    98 |     4900 |      5 |  0.000000E+00 |  0.5600000000 |  0.000000E+00 |             f\n",
      "    99 |     4950 |      5 |  0.000000E+00 |  0.5600000000 |  0.000000E+00 |             f\n",
      "   100 |     5000 |      5 |  0.000000E+00 |  0.5600000000 |  0.000000E+00 |             f\n",
      "   101 |     5050 |      5 |  0.000000E+00 |  0.5600000000 |  0.000000E+00 |             f\n",
      "   102 |     5100 |      5 |  0.000000E+00 |  0.5600000000 |  0.000000E+00 |             f\n",
      "   103 |     5150 |      5 |  0.000000E+00 |  0.5600000000 |  0.000000E+00 |             f\n",
      "   104 |     5200 |      5 |  0.000000E+00 |  0.5600000000 |  0.000000E+00 |             f\n",
      "   105 |     5250 |      5 |  0.000000E+00 |  0.5600000000 |  0.000000E+00 |             f\n",
      "   106 |     5300 |      5 |  0.000000E+00 |  0.5600000000 |  0.000000E+00 |             f\n",
      "   107 |     5350 |      5 |  0.000000E+00 |  0.5600000000 |  0.000000E+00 |             f\n",
      "   108 |     5400 |      5 |  0.000000E+00 |  0.5600000000 |  0.000000E+00 |             f\n",
      "   109 |     5450 |      5 |  0.000000E+00 |  0.5600000000 |  0.000000E+00 |             f\n",
      "   110 |     5500 |      5 |  0.000000E+00 |  0.5600000000 |  0.000000E+00 |             f\n",
      "   111 |     5550 |      5 |  0.000000E+00 |  0.5600000000 |  0.000000E+00 |             f\n",
      "   112 |     5600 |      5 |  0.000000E+00 |  0.5600000000 |  0.000000E+00 |             f\n",
      "   113 |     5650 |      5 |  0.000000E+00 |  0.5600000000 |  0.000000E+00 |             f\n",
      "   114 |     5700 |      5 |  0.000000E+00 |  0.5600000000 |  0.000000E+00 |             f\n",
      "   115 |     5750 |      5 |  0.000000E+00 |  0.5600000000 |  0.000000E+00 |             f\n",
      "   116 |     5800 |      5 |  0.000000E+00 |  0.5600000000 |  0.000000E+00 |             f\n",
      "   117 |     5850 |      5 |  0.000000E+00 |  0.5600000000 |  0.000000E+00 |             f\n",
      "   118 |     5900 |      5 |  0.000000E+00 |  0.5600000000 |  0.000000E+00 |             f\n",
      "   119 |     5950 |      5 |  0.000000E+00 |  0.5600000000 |  0.000000E+00 |             f\n",
      "   120 |     6000 |      5 |  0.000000E+00 |  0.5600000000 |  0.000000E+00 |             f\n",
      "   121 |     6050 |      5 |  0.000000E+00 |  0.5600000000 |  0.000000E+00 |             f\n",
      "   122 |     6100 |      5 |  0.000000E+00 |  0.5600000000 |  0.000000E+00 |             f\n",
      "   123 |     6150 |      5 |  0.000000E+00 |  0.5600000000 |  0.000000E+00 |             f\n",
      "   124 |     6200 |      5 |  0.000000E+00 |  0.5600000000 |  0.000000E+00 |             f\n",
      "   125 |     6250 |      5 |  0.000000E+00 |  0.5600000000 |  0.000000E+00 |             f\n",
      "   126 |     6300 |      5 |  0.000000E+00 |  0.5600000000 |  0.000000E+00 |             f\n",
      "   127 |     6350 |      5 |  0.000000E+00 |  0.5600000000 |  0.000000E+00 |             f\n",
      "   128 |     6400 |      5 |  0.000000E+00 |  0.5600000000 |  0.000000E+00 |             f\n",
      "   129 |     6450 |      5 |  0.000000E+00 |  0.5600000000 |  0.000000E+00 |             f\n",
      "   130 |     6500 |      5 |  0.000000E+00 |  0.5600000000 |  0.000000E+00 |             f\n",
      "   131 |     6550 |      5 |  0.000000E+00 |  0.5600000000 |  0.000000E+00 |             f\n",
      "   132 |     6600 |      5 |  0.000000E+00 |  0.5600000000 |  0.000000E+00 |             f\n",
      "   133 |     6650 |      5 |  0.000000E+00 |  0.5600000000 |  0.000000E+00 |             f\n",
      "   134 |     6700 |      5 |  0.000000E+00 |  0.5600000000 |  0.000000E+00 |             f\n",
      "   135 |     6750 |      5 |  0.000000E+00 |  0.5600000000 |  0.000000E+00 |             f\n",
      "   136 |     6800 |      5 |  0.000000E+00 |  0.5600000000 |  0.000000E+00 |             f\n",
      "   137 |     6850 |      5 |  0.000000E+00 |  0.5600000000 |  0.000000E+00 |             f\n",
      "   138 |     6900 |      5 |  0.000000E+00 |  0.5600000000 |  0.000000E+00 |             f\n",
      "   139 |     6950 |      5 |  0.000000E+00 |  0.5600000000 |  0.000000E+00 |             f\n",
      "   140 |     7000 |      5 |  0.000000E+00 |  0.5600000000 |  0.000000E+00 |             f\n",
      "   141 |     7050 |      5 |  0.000000E+00 |  0.5600000000 |  0.000000E+00 |             f\n",
      "   142 |     7100 |      5 |  0.000000E+00 |  0.5600000000 |  0.000000E+00 |             f\n",
      "   143 |     7150 |      5 |  0.000000E+00 |  0.5600000000 |  0.000000E+00 |             f\n",
      "   144 |     7200 |      5 |  0.000000E+00 |  0.5600000000 |  0.000000E+00 |             f\n",
      "   145 |     7250 |      5 |  0.000000E+00 |  0.5600000000 |  0.000000E+00 |             f\n",
      "   146 |     7300 |      5 |  0.000000E+00 |  0.5600000000 |  0.000000E+00 |             f\n",
      "   147 |     7350 |      5 |  0.000000E+00 |  0.5600000000 |  0.000000E+00 |             f\n",
      "   148 |     7400 |      5 |  0.000000E+00 |  0.5600000000 |  0.000000E+00 |             f\n",
      "   149 |     7450 |      5 |  0.000000E+00 |  0.5600000000 |  0.000000E+00 |             f\n",
      "   150 |     7500 |      5 |  0.000000E+00 |  0.5600000000 |  0.000000E+00 |             f\n",
      "   151 |     7550 |      5 |  0.000000E+00 |  0.5600000000 |  0.000000E+00 |             f\n",
      "   152 |     7600 |      5 |  0.000000E+00 |  0.5600000000 |  0.000000E+00 |             f\n",
      "   153 |     7650 |      5 |  0.000000E+00 |  0.5600000000 |  0.000000E+00 |             f\n",
      "   154 |     7700 |      5 |  0.000000E+00 |  0.5600000000 |  0.000000E+00 |             f\n",
      "   155 |     7750 |      5 |  0.000000E+00 |  0.5600000000 |  0.000000E+00 |             f\n",
      "   156 |     7800 |      5 |  0.000000E+00 |  0.5600000000 |  0.000000E+00 |             f\n",
      "   157 |     7850 |      5 |  0.000000E+00 |  0.5600000000 |  0.000000E+00 |             f\n",
      "   158 |     7900 |      5 |  0.000000E+00 |  0.5600000000 |  0.000000E+00 |             f\n",
      "   159 |     7950 |      5 |  0.000000E+00 |  0.5600000000 |  0.000000E+00 |             f\n",
      "   160 |     8000 |      5 |  0.000000E+00 |  0.5600000000 |  0.000000E+00 |             f\n",
      "   161 |     8050 |      5 |  0.000000E+00 |  0.5600000000 |  0.000000E+00 |             f\n",
      "   162 |     8100 |      5 |  0.000000E+00 |  0.5600000000 |  0.000000E+00 |             f\n",
      "   163 |     8150 |      5 |  0.000000E+00 |  0.5600000000 |  0.000000E+00 |             f\n",
      "   164 |     8200 |      5 |  0.000000E+00 |  0.5600000000 |  0.000000E+00 |             f\n",
      "   165 |     8250 |      5 |  0.000000E+00 |  0.5600000000 |  0.000000E+00 |             f\n",
      "   166 |     8300 |      5 |  0.000000E+00 |  0.5600000000 |  0.000000E+00 |             f\n",
      "   167 |     8350 |      5 |  0.000000E+00 |  0.5600000000 |  0.000000E+00 |             f\n",
      "   168 |     8400 |      5 |  0.000000E+00 |  0.5600000000 |  0.000000E+00 |             f\n",
      "   169 |     8450 |      5 |  0.000000E+00 |  0.5600000000 |  0.000000E+00 |             f\n",
      "   170 |     8500 |      5 |  0.000000E+00 |  0.5600000000 |  0.000000E+00 |             f\n",
      "   171 |     8550 |      5 |  0.000000E+00 |  0.5600000000 |  0.000000E+00 |             f\n",
      "   172 |     8600 |      5 |  0.000000E+00 |  0.5600000000 |  0.000000E+00 |             f\n",
      "   173 |     8650 |      5 |  0.000000E+00 |  0.5600000000 |  0.000000E+00 |             f\n",
      "   174 |     8700 |      5 |  0.000000E+00 |  0.5600000000 |  0.000000E+00 |             f\n",
      "   175 |     8750 |      5 |  0.000000E+00 |  0.5600000000 |  0.000000E+00 |             f\n",
      "   176 |     8800 |      5 |  0.000000E+00 |  0.5600000000 |  0.000000E+00 |             f\n",
      "   177 |     8850 |      5 |  0.000000E+00 |  0.5600000000 |  0.000000E+00 |             f\n",
      "   178 |     8900 |      5 |  0.000000E+00 |  0.5600000000 |  0.000000E+00 |             f\n",
      "   179 |     8950 |      5 |  0.000000E+00 |  0.5600000000 |  0.000000E+00 |             f\n"
     ]
    },
    {
     "name": "stdout",
     "output_type": "stream",
     "text": [
      "   180 |     9000 |      5 |  0.000000E+00 |  0.5600000000 |  0.000000E+00 |             f\n",
      "   181 |     9050 |      5 |  0.000000E+00 |  0.5600000000 |  0.000000E+00 |             f\n",
      "   182 |     9100 |      5 |  0.000000E+00 |  0.5600000000 |  0.000000E+00 |             f\n",
      "   183 |     9150 |      5 |  0.000000E+00 |  0.5600000000 |  0.000000E+00 |             f\n",
      "   184 |     9200 |      5 |  0.000000E+00 |  0.5600000000 |  0.000000E+00 |             f\n",
      "   185 |     9250 |      5 |  0.000000E+00 |  0.5600000000 |  0.000000E+00 |             f\n",
      "   186 |     9300 |      5 |  0.000000E+00 |  0.5600000000 |  0.000000E+00 |             f\n",
      "   187 |     9350 |      5 |  0.000000E+00 |  0.5600000000 |  0.000000E+00 |             f\n",
      "   188 |     9400 |      5 |  0.000000E+00 |  0.5600000000 |  0.000000E+00 |             f\n",
      "   189 |     9450 |      5 |  0.000000E+00 |  0.5600000000 |  0.000000E+00 |             f\n",
      "   190 |     9500 |      5 |  0.000000E+00 |  0.5600000000 |  0.000000E+00 |             f\n",
      "   191 |     9550 |      5 |  0.000000E+00 |  0.5600000000 |  0.000000E+00 |             f\n",
      "   192 |     9600 |      5 |  0.000000E+00 |  0.5600000000 |  0.000000E+00 |             f\n",
      "   193 |     9650 |      5 |  0.000000E+00 |  0.5600000000 |  0.000000E+00 |             f\n",
      "   194 |     9700 |      5 |  0.000000E+00 |  0.5600000000 |  0.000000E+00 |             f\n",
      "   195 |     9750 |      5 |  0.000000E+00 |  0.5600000000 |  0.000000E+00 |             f\n",
      "   196 |     9800 |      5 |  0.000000E+00 |  0.5600000000 |  0.000000E+00 |             f\n",
      "   197 |     9850 |      5 |  0.000000E+00 |  0.5600000000 |  0.000000E+00 |             f\n",
      "   198 |     9900 |      5 |  0.000000E+00 |  0.5600000000 |  0.000000E+00 |             f\n",
      "   199 |     9950 |      5 |  0.000000E+00 |  0.5600000000 |  0.000000E+00 |             f\n",
      "   200 |    10000 |      5 |  0.000000E+00 |  0.5600000000 |  0.000000E+00 |             f\n",
      "   201 |    10050 |      5 |  0.000000E+00 |  0.5600000000 |  0.000000E+00 |             f\n",
      "   202 |    10100 |      5 |  0.000000E+00 |  0.5600000000 |  0.000000E+00 |             f\n",
      "   203 |    10150 |      5 |  0.000000E+00 |  0.5600000000 |  0.000000E+00 |             f\n",
      "   204 |    10200 |      5 |  0.000000E+00 |  0.5600000000 |  0.000000E+00 |             f\n",
      "   205 |    10250 |      5 |  0.000000E+00 |  0.5600000000 |  0.000000E+00 |             f\n",
      "   206 |    10300 |      5 |  0.000000E+00 |  0.5600000000 |  0.000000E+00 |             f\n",
      "   207 |    10350 |      5 |  0.000000E+00 |  0.5600000000 |  0.000000E+00 |             f\n",
      "   208 |    10400 |      5 |  0.000000E+00 |  0.5600000000 |  0.000000E+00 |             f\n",
      "   209 |    10450 |      5 |  0.000000E+00 |  0.5600000000 |  0.000000E+00 |             f\n",
      "   210 |    10500 |      5 |  0.000000E+00 |  0.5600000000 |  0.000000E+00 |             f\n",
      "   211 |    10550 |      5 |  0.000000E+00 |  0.5600000000 |  0.000000E+00 |             f\n",
      "   212 |    10600 |      5 |  0.000000E+00 |  0.5600000000 |  0.000000E+00 |             f\n",
      "   213 |    10650 |      5 |  0.000000E+00 |  0.5600000000 |  0.000000E+00 |             f\n",
      "   214 |    10700 |      5 |  0.000000E+00 |  0.5600000000 |  0.000000E+00 |             f\n",
      "   215 |    10750 |      5 |  0.000000E+00 |  0.5600000000 |  0.000000E+00 |             f\n",
      "   216 |    10800 |      5 |  0.000000E+00 |  0.5600000000 |  0.000000E+00 |             f\n",
      "   217 |    10850 |      5 |  0.000000E+00 |  0.5600000000 |  0.000000E+00 |             f\n",
      "   218 |    10900 |      5 |  0.000000E+00 |  0.5600000000 |  0.000000E+00 |             f\n",
      "   219 |    10950 |      5 |  0.000000E+00 |  0.5600000000 |  0.000000E+00 |             f\n",
      "   220 |    11000 |      5 |  0.000000E+00 |  0.5600000000 |  0.000000E+00 |             f\n",
      "   221 |    11050 |      5 |  0.000000E+00 |  0.5600000000 |  0.000000E+00 |             f\n",
      "   222 |    11100 |      5 |  0.000000E+00 |  0.5600000000 |  0.000000E+00 |             f\n",
      "   223 |    11150 |      5 |  0.000000E+00 |  0.5600000000 |  0.000000E+00 |             f\n",
      "   224 |    11200 |      5 |  0.000000E+00 |  0.5600000000 |  0.000000E+00 |             f\n",
      "   225 |    11250 |      5 |  0.000000E+00 |  0.5600000000 |  0.000000E+00 |             f\n",
      "   226 |    11300 |      5 |  0.000000E+00 |  0.5600000000 |  0.000000E+00 |             f\n",
      "   227 |    11350 |      5 |  0.000000E+00 |  0.5600000000 |  0.000000E+00 |             f\n",
      "   228 |    11400 |      5 |  0.000000E+00 |  0.5600000000 |  0.000000E+00 |             f\n",
      "   229 |    11450 |      5 |  0.000000E+00 |  0.5600000000 |  0.000000E+00 |             f\n",
      "   230 |    11500 |      5 |  0.000000E+00 |  0.5600000000 |  0.000000E+00 |             f\n",
      "   231 |    11550 |      5 |  0.000000E+00 |  0.5600000000 |  0.000000E+00 |             f\n",
      "   232 |    11600 |      5 |  0.000000E+00 |  0.5600000000 |  0.000000E+00 |             f\n",
      "   233 |    11650 |      5 |  0.000000E+00 |  0.5600000000 |  0.000000E+00 |             f\n",
      "   234 |    11700 |      5 |  0.000000E+00 |  0.5600000000 |  0.000000E+00 |             f\n",
      "   235 |    11750 |      5 |  0.000000E+00 |  0.5600000000 |  0.000000E+00 |             f\n",
      "   236 |    11800 |      5 |  0.000000E+00 |  0.5600000000 |  0.000000E+00 |             f\n",
      "   237 |    11850 |      5 |  0.000000E+00 |  0.5600000000 |  0.000000E+00 |             f\n",
      "   238 |    11900 |      5 |  0.000000E+00 |  0.5600000000 |  0.000000E+00 |             f\n",
      "   239 |    11950 |      5 |  0.000000E+00 |  0.5600000000 |  0.000000E+00 |             f\n",
      "   240 |    12000 |      5 |  0.000000E+00 |  0.5600000000 |  0.000000E+00 |             f\n",
      "   241 |    12050 |      5 |  0.000000E+00 |  0.5600000000 |  0.000000E+00 |             f\n",
      "   242 |    12100 |      5 |  0.000000E+00 |  0.5600000000 |  0.000000E+00 |             f\n",
      "   243 |    12150 |      5 |  0.000000E+00 |  0.5600000000 |  0.000000E+00 |             f\n",
      "   244 |    12200 |      5 |  0.000000E+00 |  0.5600000000 |  0.000000E+00 |             f\n",
      "   245 |    12250 |      5 |  0.000000E+00 |  0.5600000000 |  0.000000E+00 |             f\n",
      "   246 |    12300 |      5 |  0.000000E+00 |  0.5600000000 |  0.000000E+00 |             f\n",
      "   247 |    12350 |      5 |  0.000000E+00 |  0.5600000000 |  0.000000E+00 |             f\n",
      "   248 |    12400 |      5 |  0.000000E+00 |  0.5600000000 |  0.000000E+00 |             f\n",
      "   249 |    12450 |      5 |  0.000000E+00 |  0.5600000000 |  0.000000E+00 |             f\n",
      "   250 |    12500 |      5 |  0.000000E+00 |  0.5600000000 |  0.000000E+00 |             f\n",
      "   251 |    12550 |      5 |  0.000000E+00 |  0.5600000000 |  0.000000E+00 |             f\n",
      "   252 |    12600 |      5 |  0.000000E+00 |  0.5600000000 |  0.000000E+00 |             f\n",
      "   253 |    12650 |      5 |  0.000000E+00 |  0.5600000000 |  0.000000E+00 |             f\n",
      "   254 |    12700 |      5 |  0.000000E+00 |  0.5600000000 |  0.000000E+00 |             f\n",
      "   255 |    12750 |      5 |  0.000000E+00 |  0.5600000000 |  0.000000E+00 |             f\n",
      "   256 |    12800 |      5 |  0.000000E+00 |  0.5600000000 |  0.000000E+00 |             f\n",
      "   257 |    12850 |      5 |  0.000000E+00 |  0.5600000000 |  0.000000E+00 |             f\n",
      "   258 |    12900 |      5 |  0.000000E+00 |  0.5600000000 |  0.000000E+00 |             f\n",
      "   259 |    12950 |      5 |  0.000000E+00 |  0.5600000000 |  0.000000E+00 |             f\n",
      "   260 |    13000 |      5 |  0.000000E+00 |  0.5600000000 |  0.000000E+00 |             f\n",
      "   261 |    13050 |      5 |  0.000000E+00 |  0.5600000000 |  0.000000E+00 |             f\n",
      "   262 |    13100 |      5 |  0.000000E+00 |  0.5600000000 |  0.000000E+00 |             f\n",
      "   263 |    13150 |      5 |  0.000000E+00 |  0.5600000000 |  0.000000E+00 |             f\n",
      "   264 |    13200 |      5 |  0.000000E+00 |  0.5600000000 |  0.000000E+00 |             f\n",
      "   265 |    13250 |      5 |  0.000000E+00 |  0.5600000000 |  0.000000E+00 |             f\n",
      "   266 |    13300 |      5 |  0.000000E+00 |  0.5600000000 |  0.000000E+00 |             f\n",
      "   267 |    13350 |      5 |  0.000000E+00 |  0.5600000000 |  0.000000E+00 |             f\n",
      "   268 |    13400 |      5 |  0.000000E+00 |  0.5600000000 |  0.000000E+00 |             f\n",
      "   269 |    13450 |      5 |  0.000000E+00 |  0.5600000000 |  0.000000E+00 |             f\n",
      "   270 |    13500 |      5 |  0.000000E+00 |  0.5600000000 |  0.000000E+00 |             f\n"
     ]
    },
    {
     "name": "stdout",
     "output_type": "stream",
     "text": [
      "   271 |    13550 |      5 |  0.000000E+00 |  0.5600000000 |  0.000000E+00 |             f\n",
      "   272 |    13600 |      5 |  0.000000E+00 |  0.5600000000 |  0.000000E+00 |             f\n",
      "   273 |    13650 |      5 |  0.000000E+00 |  0.5600000000 |  0.000000E+00 |             f\n",
      "   274 |    13700 |      5 |  0.000000E+00 |  0.5600000000 |  0.000000E+00 |             f\n",
      "   275 |    13750 |      5 |  0.000000E+00 |  0.5600000000 |  0.000000E+00 |             f\n",
      "   276 |    13800 |      5 |  0.000000E+00 |  0.5600000000 |  0.000000E+00 |             f\n",
      "   277 |    13850 |      5 |  0.000000E+00 |  0.5600000000 |  0.000000E+00 |             f\n",
      "   278 |    13900 |      5 |  0.000000E+00 |  0.5600000000 |  0.000000E+00 |             f\n",
      "   279 |    13950 |      5 |  0.000000E+00 |  0.5600000000 |  0.000000E+00 |             f\n",
      "   280 |    14000 |      5 |  0.000000E+00 |  0.5600000000 |  0.000000E+00 |             f\n",
      "   281 |    14050 |      5 |  0.000000E+00 |  0.5600000000 |  0.000000E+00 |             f\n",
      "   282 |    14100 |      5 |  0.000000E+00 |  0.5600000000 |  0.000000E+00 |             f\n",
      "   283 |    14150 |      5 |  0.000000E+00 |  0.5600000000 |  0.000000E+00 |             f\n",
      "   284 |    14200 |      5 |  0.000000E+00 |  0.5600000000 |  0.000000E+00 |             f\n",
      "   285 |    14250 |      5 |  0.000000E+00 |  0.5600000000 |  0.000000E+00 |             f\n",
      "   286 |    14300 |      5 |  0.000000E+00 |  0.5600000000 |  0.000000E+00 |             f\n",
      "   287 |    14350 |      5 |  0.000000E+00 |  0.5600000000 |  0.000000E+00 |             f\n",
      "   288 |    14400 |      5 |  0.000000E+00 |  0.5600000000 |  0.000000E+00 |             f\n",
      "   289 |    14450 |      5 |  0.000000E+00 |  0.5600000000 |  0.000000E+00 |             f\n",
      "   290 |    14500 |      5 |  0.000000E+00 |  0.5600000000 |  0.000000E+00 |             f\n",
      "   291 |    14550 |      5 |  0.000000E+00 |  0.5600000000 |  0.000000E+00 |             f\n",
      "   292 |    14600 |      5 |  0.000000E+00 |  0.5600000000 |  0.000000E+00 |             f\n",
      "   293 |    14650 |      5 |  0.000000E+00 |  0.5600000000 |  0.000000E+00 |             f\n",
      "   294 |    14700 |      5 |  0.000000E+00 |  0.5600000000 |  0.000000E+00 |             f\n",
      "   295 |    14750 |      5 |  0.000000E+00 |  0.5600000000 |  0.000000E+00 |             f\n",
      "   296 |    14800 |      5 |  0.000000E+00 |  0.5600000000 |  0.000000E+00 |             f\n",
      "   297 |    14850 |      5 |  0.000000E+00 |  0.5600000000 |  0.000000E+00 |             f\n",
      "   298 |    14900 |      5 |  0.000000E+00 |  0.5600000000 |  0.000000E+00 |             f\n",
      "   299 |    14950 |      5 |  0.000000E+00 |  0.5600000000 |  0.000000E+00 |             f\n",
      "   300 |    15000 |      5 |  0.000000E+00 |  0.5600000000 |  0.000000E+00 |             f\n",
      "   301 |    15050 |      5 |  0.000000E+00 |  0.5600000000 |  0.000000E+00 |             f\n",
      "   302 |    15100 |      5 |  0.000000E+00 |  0.5600000000 |  0.000000E+00 |             f\n",
      "   303 |    15150 |      5 |  0.000000E+00 |  0.5600000000 |  0.000000E+00 |             f\n",
      "   304 |    15200 |      5 |  0.000000E+00 |  0.5600000000 |  0.000000E+00 |             f\n",
      "   305 |    15250 |      5 |  0.000000E+00 |  0.5600000000 |  0.000000E+00 |             f\n",
      "   306 |    15300 |      5 |  0.000000E+00 |  0.5600000000 |  0.000000E+00 |             f\n",
      "   307 |    15350 |      5 |  0.000000E+00 |  0.5600000000 |  0.000000E+00 |             f\n",
      "   308 |    15400 |      5 |  0.000000E+00 |  0.5600000000 |  0.000000E+00 |             f\n",
      "   309 |    15450 |      5 |  0.000000E+00 |  0.5600000000 |  0.000000E+00 |             f\n",
      "   310 |    15500 |      5 |  0.000000E+00 |  0.5600000000 |  0.000000E+00 |             f\n",
      "   311 |    15550 |      5 |  0.000000E+00 |  0.5600000000 |  0.000000E+00 |             f\n",
      "   312 |    15600 |      5 |  0.000000E+00 |  0.5600000000 |  0.000000E+00 |             f\n",
      "   313 |    15650 |      5 |  0.000000E+00 |  0.5600000000 |  0.000000E+00 |             f\n",
      "   314 |    15700 |      5 |  0.000000E+00 |  0.5600000000 |  0.000000E+00 |             f\n",
      "   315 |    15750 |      5 |  0.000000E+00 |  0.5600000000 |  0.000000E+00 |             f\n",
      "   316 |    15800 |      5 |  0.000000E+00 |  0.5600000000 |  0.000000E+00 |             f\n",
      "   317 |    15850 |      5 |  0.000000E+00 |  0.5600000000 |  0.000000E+00 |             f\n",
      "   318 |    15900 |      5 |  0.000000E+00 |  0.5600000000 |  0.000000E+00 |             f\n",
      "   319 |    15950 |      5 |  0.000000E+00 |  0.5600000000 |  0.000000E+00 |             f\n",
      "   320 |    16000 |      5 |  0.000000E+00 |  0.5600000000 |  0.000000E+00 |             f\n",
      "   321 |    16050 |      5 |  0.000000E+00 |  0.5600000000 |  0.000000E+00 |             f\n",
      "   322 |    16100 |      5 |  0.000000E+00 |  0.5600000000 |  0.000000E+00 |             f\n",
      "   323 |    16150 |      5 |  0.000000E+00 |  0.5600000000 |  0.000000E+00 |             f\n",
      "   324 |    16200 |      5 |  0.000000E+00 |  0.5600000000 |  0.000000E+00 |             f\n",
      "   325 |    16250 |      5 |  0.000000E+00 |  0.5600000000 |  0.000000E+00 |             f\n",
      "   326 |    16300 |      5 |  0.000000E+00 |  0.5600000000 |  0.000000E+00 |             f\n",
      "   327 |    16350 |      5 |  0.000000E+00 |  0.5600000000 |  0.000000E+00 |             f\n",
      "   328 |    16400 |      5 |  0.000000E+00 |  0.5600000000 |  0.000000E+00 |             f\n",
      "   329 |    16450 |      5 |  0.000000E+00 |  0.5600000000 |  0.000000E+00 |             f\n",
      "   330 |    16500 |      5 |  0.000000E+00 |  0.5600000000 |  0.000000E+00 |             f\n",
      "   331 |    16550 |      5 |  0.000000E+00 |  0.5600000000 |  0.000000E+00 |             f\n",
      "   332 |    16600 |      5 |  0.000000E+00 |  0.5600000000 |  0.000000E+00 |             f\n",
      "   333 |    16650 |      5 |  0.000000E+00 |  0.5600000000 |  0.000000E+00 |             f\n",
      "   334 |    16700 |      5 |  0.000000E+00 |  0.5600000000 |  0.000000E+00 |             f\n",
      "   335 |    16750 |      5 |  0.000000E+00 |  0.5600000000 |  0.000000E+00 |             f\n",
      "   336 |    16800 |      5 |  0.000000E+00 |  0.5600000000 |  0.000000E+00 |             f\n",
      "   337 |    16850 |      5 |  0.000000E+00 |  0.5600000000 |  0.000000E+00 |             f\n",
      "   338 |    16900 |      5 |  0.000000E+00 |  0.5600000000 |  0.000000E+00 |             f\n",
      "   339 |    16950 |      5 |  0.000000E+00 |  0.5600000000 |  0.000000E+00 |             f\n",
      "   340 |    17000 |      5 |  0.000000E+00 |  0.5600000000 |  0.000000E+00 |             f\n",
      "   341 |    17050 |      5 |  0.000000E+00 |  0.5600000000 |  0.000000E+00 |             f\n",
      "   342 |    17100 |      5 |  0.000000E+00 |  0.5600000000 |  0.000000E+00 |             f\n",
      "   343 |    17150 |      5 |  0.000000E+00 |  0.5600000000 |  0.000000E+00 |             f\n",
      "   344 |    17200 |      5 |  0.000000E+00 |  0.5600000000 |  0.000000E+00 |             f\n",
      "   345 |    17250 |      5 |  0.000000E+00 |  0.5600000000 |  0.000000E+00 |             f\n",
      "   346 |    17300 |      5 |  0.000000E+00 |  0.5600000000 |  0.000000E+00 |             f\n",
      "   347 |    17350 |      5 |  0.000000E+00 |  0.5600000000 |  0.000000E+00 |             f\n",
      "   348 |    17400 |      5 |  0.000000E+00 |  0.5600000000 |  0.000000E+00 |             f\n",
      "   349 |    17450 |      5 |  0.000000E+00 |  0.5600000000 |  0.000000E+00 |             f\n",
      "   350 |    17500 |      5 |  0.000000E+00 |  0.5600000000 |  0.000000E+00 |             f\n",
      "   351 |    17550 |      5 |  0.000000E+00 |  0.5600000000 |  0.000000E+00 |             f\n",
      "   352 |    17600 |      5 |  0.000000E+00 |  0.5600000000 |  0.000000E+00 |             f\n",
      "   353 |    17650 |      5 |  0.000000E+00 |  0.5600000000 |  0.000000E+00 |             f\n",
      "   354 |    17700 |      5 |  0.000000E+00 |  0.5600000000 |  0.000000E+00 |             f\n",
      "   355 |    17750 |      5 |  0.000000E+00 |  0.5600000000 |  0.000000E+00 |             f\n",
      "   356 |    17800 |      5 |  0.000000E+00 |  0.5600000000 |  0.000000E+00 |             f\n",
      "   357 |    17850 |      5 |  0.000000E+00 |  0.5600000000 |  0.000000E+00 |             f\n",
      "   358 |    17900 |      5 |  0.000000E+00 |  0.5600000000 |  0.000000E+00 |             f\n",
      "   359 |    17950 |      5 |  0.000000E+00 |  0.5600000000 |  0.000000E+00 |             f\n",
      "   360 |    18000 |      5 |  0.000000E+00 |  0.5600000000 |  0.000000E+00 |             f\n",
      "   361 |    18050 |      5 |  0.000000E+00 |  0.5600000000 |  0.000000E+00 |             f\n"
     ]
    },
    {
     "name": "stdout",
     "output_type": "stream",
     "text": [
      "   362 |    18100 |      5 |  0.000000E+00 |  0.5600000000 |  0.000000E+00 |             f\n",
      "   363 |    18150 |      5 |  0.000000E+00 |  0.5600000000 |  0.000000E+00 |             f\n",
      "   364 |    18200 |      5 |  0.000000E+00 |  0.5600000000 |  0.000000E+00 |             f\n",
      "   365 |    18250 |      5 |  0.000000E+00 |  0.5600000000 |  0.000000E+00 |             f\n",
      "   366 |    18300 |      5 |  0.000000E+00 |  0.5600000000 |  0.000000E+00 |             f\n",
      "   367 |    18350 |      5 |  0.000000E+00 |  0.5600000000 |  0.000000E+00 |             f\n",
      "   368 |    18400 |      5 |  0.000000E+00 |  0.5600000000 |  0.000000E+00 |             f\n",
      "   369 |    18450 |      5 |  0.000000E+00 |  0.5600000000 |  0.000000E+00 |             f\n",
      "   370 |    18500 |      5 |  0.000000E+00 |  0.5600000000 |  0.000000E+00 |             f\n",
      "   371 |    18550 |      5 |  0.000000E+00 |  0.5600000000 |  0.000000E+00 |             f\n",
      "   372 |    18600 |      5 |  0.000000E+00 |  0.5600000000 |  0.000000E+00 |             f\n",
      "   373 |    18650 |      5 |  0.000000E+00 |  0.5600000000 |  0.000000E+00 |             f\n",
      "   374 |    18700 |      5 |  0.000000E+00 |  0.5600000000 |  0.000000E+00 |             f\n",
      "   375 |    18750 |      5 |  0.000000E+00 |  0.5600000000 |  0.000000E+00 |             f\n",
      "   376 |    18800 |      5 |  0.000000E+00 |  0.5600000000 |  0.000000E+00 |             f\n",
      "   377 |    18850 |      5 |  0.000000E+00 |  0.5600000000 |  0.000000E+00 |             f\n",
      "   378 |    18900 |      5 |  0.000000E+00 |  0.5600000000 |  0.000000E+00 |             f\n",
      "   379 |    18950 |      5 |  0.000000E+00 |  0.5600000000 |  0.000000E+00 |             f\n",
      "   380 |    19000 |      5 |  0.000000E+00 |  0.5600000000 |  0.000000E+00 |             f\n",
      "   381 |    19050 |      5 |  0.000000E+00 |  0.5600000000 |  0.000000E+00 |             f\n",
      "   382 |    19100 |      5 |  0.000000E+00 |  0.5600000000 |  0.000000E+00 |             f\n",
      "   383 |    19150 |      5 |  0.000000E+00 |  0.5600000000 |  0.000000E+00 |             f\n",
      "   384 |    19200 |      5 |  0.000000E+00 |  0.5600000000 |  0.000000E+00 |             f\n",
      "   385 |    19250 |      5 |  0.000000E+00 |  0.5600000000 |  0.000000E+00 |             f\n",
      "   386 |    19300 |      5 |  0.000000E+00 |  0.5600000000 |  0.000000E+00 |             f\n",
      "   387 |    19350 |      5 |  0.000000E+00 |  0.5600000000 |  0.000000E+00 |             f\n",
      "   388 |    19400 |      5 |  0.000000E+00 |  0.5600000000 |  0.000000E+00 |             f\n",
      "   389 |    19450 |      5 |  0.000000E+00 |  0.5600000000 |  0.000000E+00 |             f\n",
      "   390 |    19500 |      5 |  0.000000E+00 |  0.5600000000 |  0.000000E+00 |             f\n",
      "   391 |    19550 |      5 |  0.000000E+00 |  0.5600000000 |  0.000000E+00 |             f\n",
      "   392 |    19600 |      5 |  0.000000E+00 |  0.5600000000 |  0.000000E+00 |             f\n",
      "   393 |    19650 |      5 |  0.000000E+00 |  0.5600000000 |  0.000000E+00 |             f\n",
      "   394 |    19700 |      5 |  0.000000E+00 |  0.5600000000 |  0.000000E+00 |             f\n",
      "   395 |    19750 |      5 |  0.000000E+00 |  0.5600000000 |  0.000000E+00 |             f\n",
      "   396 |    19800 |      5 |  0.000000E+00 |  0.5600000000 |  0.000000E+00 |             f\n",
      "   397 |    19850 |      5 |  0.000000E+00 |  0.5600000000 |  0.000000E+00 |             f\n",
      "   398 |    19900 |      5 |  0.000000E+00 |  0.5600000000 |  0.000000E+00 |             f\n",
      "   399 |    19950 |      5 |  0.000000E+00 |  0.5600000000 |  0.000000E+00 |             f\n",
      "   400 |    20000 |      5 |  0.000000E+00 |  0.5600000000 |  0.000000E+00 |             f\n",
      "   401 |    20050 |      5 |  0.000000E+00 |  0.5600000000 |  0.000000E+00 |             f\n",
      "   402 |    20100 |      5 |  0.000000E+00 |  0.5600000000 |  0.000000E+00 |             f\n",
      "   403 |    20150 |      5 |  0.000000E+00 |  0.5600000000 |  0.000000E+00 |             f\n",
      "   404 |    20200 |      5 |  0.000000E+00 |  0.5600000000 |  0.000000E+00 |             f\n",
      "   405 |    20250 |      5 |  0.000000E+00 |  0.5600000000 |  0.000000E+00 |             f\n",
      "   406 |    20300 |      5 |  0.000000E+00 |  0.5600000000 |  0.000000E+00 |             f\n",
      "   407 |    20350 |      5 |  0.000000E+00 |  0.5600000000 |  0.000000E+00 |             f\n",
      "   408 |    20400 |      5 |  0.000000E+00 |  0.5600000000 |  0.000000E+00 |             f\n",
      "   409 |    20450 |      5 |  0.000000E+00 |  0.5600000000 |  0.000000E+00 |             f\n",
      "   410 |    20500 |      5 |  0.000000E+00 |  0.5600000000 |  0.000000E+00 |             f\n",
      "   411 |    20550 |      5 |  0.000000E+00 |  0.5600000000 |  0.000000E+00 |             f\n",
      "   412 |    20600 |      5 |  0.000000E+00 |  0.5600000000 |  0.000000E+00 |             f\n",
      "   413 |    20650 |      5 |  0.000000E+00 |  0.5600000000 |  0.000000E+00 |             f\n",
      "   414 |    20700 |      5 |  0.000000E+00 |  0.5600000000 |  0.000000E+00 |             f\n",
      "   415 |    20750 |      5 |  0.000000E+00 |  0.5600000000 |  0.000000E+00 |             f\n",
      "   416 |    20800 |      5 |  0.000000E+00 |  0.5600000000 |  0.000000E+00 |             f\n",
      "   417 |    20850 |      5 |  0.000000E+00 |  0.5600000000 |  0.000000E+00 |             f\n",
      "   418 |    20900 |      5 |  0.000000E+00 |  0.5600000000 |  0.000000E+00 |             f\n",
      "   419 |    20950 |      5 |  0.000000E+00 |  0.5600000000 |  0.000000E+00 |             f\n",
      "   420 |    21000 |      5 |  0.000000E+00 |  0.5600000000 |  0.000000E+00 |             f\n",
      "   421 |    21050 |      5 |  0.000000E+00 |  0.5600000000 |  0.000000E+00 |             f\n",
      "   422 |    21100 |      5 |  0.000000E+00 |  0.5600000000 |  0.000000E+00 |             f\n",
      "   423 |    21150 |      5 |  0.000000E+00 |  0.5600000000 |  0.000000E+00 |             f\n",
      "   424 |    21200 |      5 |  0.000000E+00 |  0.5600000000 |  0.000000E+00 |             f\n",
      "   425 |    21250 |      5 |  0.000000E+00 |  0.5600000000 |  0.000000E+00 |             f\n",
      "   426 |    21300 |      5 |  0.000000E+00 |  0.5600000000 |  0.000000E+00 |             f\n",
      "   427 |    21350 |      5 |  0.000000E+00 |  0.5600000000 |  0.000000E+00 |             f\n",
      "   428 |    21400 |      5 |  0.000000E+00 |  0.5600000000 |  0.000000E+00 |             f\n",
      "   429 |    21450 |      5 |  0.000000E+00 |  0.5600000000 |  0.000000E+00 |             f\n",
      "   430 |    21500 |      5 |  0.000000E+00 |  0.5600000000 |  0.000000E+00 |             f\n",
      "   431 |    21550 |      5 |  0.000000E+00 |  0.5600000000 |  0.000000E+00 |             f\n",
      "   432 |    21600 |      5 |  0.000000E+00 |  0.5600000000 |  0.000000E+00 |             f\n",
      "   433 |    21650 |      5 |  0.000000E+00 |  0.5600000000 |  0.000000E+00 |             f\n",
      "   434 |    21700 |      5 |  0.000000E+00 |  0.5600000000 |  0.000000E+00 |             f\n",
      "   435 |    21750 |      5 |  0.000000E+00 |  0.5600000000 |  0.000000E+00 |             f\n",
      "   436 |    21800 |      5 |  0.000000E+00 |  0.5600000000 |  0.000000E+00 |             f\n",
      "   437 |    21850 |      5 |  0.000000E+00 |  0.5600000000 |  0.000000E+00 |             f\n",
      "   438 |    21900 |      5 |  0.000000E+00 |  0.5600000000 |  0.000000E+00 |             f\n",
      "   439 |    21950 |      5 |  0.000000E+00 |  0.5600000000 |  0.000000E+00 |             f\n",
      "   440 |    22000 |      5 |  0.000000E+00 |  0.5600000000 |  0.000000E+00 |             f\n",
      "   441 |    22050 |      5 |  0.000000E+00 |  0.5600000000 |  0.000000E+00 |             f\n",
      "   442 |    22100 |      5 |  0.000000E+00 |  0.5600000000 |  0.000000E+00 |             f\n",
      "   443 |    22150 |      5 |  0.000000E+00 |  0.5600000000 |  0.000000E+00 |             f\n",
      "   444 |    22200 |      5 |  0.000000E+00 |  0.5600000000 |  0.000000E+00 |             f\n",
      "   445 |    22250 |      5 |  0.000000E+00 |  0.5600000000 |  0.000000E+00 |             f\n",
      "   446 |    22300 |      5 |  0.000000E+00 |  0.5600000000 |  0.000000E+00 |             f\n",
      "   447 |    22350 |      5 |  0.000000E+00 |  0.5600000000 |  0.000000E+00 |             f\n",
      "   448 |    22400 |      5 |  0.000000E+00 |  0.5600000000 |  0.000000E+00 |             f\n",
      "   449 |    22450 |      5 |  0.000000E+00 |  0.5600000000 |  0.000000E+00 |             f\n",
      "   450 |    22500 |      5 |  0.000000E+00 |  0.5600000000 |  0.000000E+00 |             f\n",
      "   451 |    22550 |      5 |  0.000000E+00 |  0.5600000000 |  0.000000E+00 |             f\n",
      "   452 |    22600 |      5 |  0.000000E+00 |  0.5600000000 |  0.000000E+00 |             f\n"
     ]
    },
    {
     "name": "stdout",
     "output_type": "stream",
     "text": [
      "   453 |    22650 |      5 |  0.000000E+00 |  0.5600000000 |  0.000000E+00 |             f\n",
      "   454 |    22700 |      5 |  0.000000E+00 |  0.5600000000 |  0.000000E+00 |             f\n",
      "   455 |    22750 |      5 |  0.000000E+00 |  0.5600000000 |  0.000000E+00 |             f\n",
      "   456 |    22800 |      5 |  0.000000E+00 |  0.5600000000 |  0.000000E+00 |             f\n",
      "   457 |    22850 |      5 |  0.000000E+00 |  0.5600000000 |  0.000000E+00 |             f\n",
      "   458 |    22900 |      5 |  0.000000E+00 |  0.5600000000 |  0.000000E+00 |             f\n",
      "   459 |    22950 |      5 |  0.000000E+00 |  0.5600000000 |  0.000000E+00 |             f\n",
      "   460 |    23000 |      5 |  0.000000E+00 |  0.5600000000 |  0.000000E+00 |             f\n",
      "   461 |    23050 |      5 |  0.000000E+00 |  0.5600000000 |  0.000000E+00 |             f\n",
      "   462 |    23100 |      5 |  0.000000E+00 |  0.5600000000 |  0.000000E+00 |             f\n",
      "   463 |    23150 |      5 |  0.000000E+00 |  0.5600000000 |  0.000000E+00 |             f\n",
      "   464 |    23200 |      5 |  0.000000E+00 |  0.5600000000 |  0.000000E+00 |             f\n",
      "   465 |    23250 |      5 |  0.000000E+00 |  0.5600000000 |  0.000000E+00 |             f\n",
      "   466 |    23300 |      5 |  0.000000E+00 |  0.5600000000 |  0.000000E+00 |             f\n",
      "   467 |    23350 |      5 |  0.000000E+00 |  0.5600000000 |  0.000000E+00 |             f\n",
      "   468 |    23400 |      5 |  0.000000E+00 |  0.5600000000 |  0.000000E+00 |             f\n",
      "   469 |    23450 |      5 |  0.000000E+00 |  0.5600000000 |  0.000000E+00 |             f\n",
      "   470 |    23500 |      5 |  0.000000E+00 |  0.5600000000 |  0.000000E+00 |             f\n",
      "   471 |    23550 |      5 |  0.000000E+00 |  0.5600000000 |  0.000000E+00 |             f\n",
      "   472 |    23600 |      5 |  0.000000E+00 |  0.5600000000 |  0.000000E+00 |             f\n",
      "   473 |    23650 |      5 |  0.000000E+00 |  0.5600000000 |  0.000000E+00 |             f\n",
      "   474 |    23700 |      5 |  0.000000E+00 |  0.5600000000 |  0.000000E+00 |             f\n",
      "   475 |    23750 |      5 |  0.000000E+00 |  0.5600000000 |  0.000000E+00 |             f\n",
      "   476 |    23800 |      5 |  0.000000E+00 |  0.5600000000 |  0.000000E+00 |             f\n",
      "   477 |    23850 |      5 |  0.000000E+00 |  0.5600000000 |  0.000000E+00 |             f\n",
      "   478 |    23900 |      5 |  0.000000E+00 |  0.5600000000 |  0.000000E+00 |             f\n",
      "   479 |    23950 |      5 |  0.000000E+00 |  0.5600000000 |  0.000000E+00 |             f\n",
      "   480 |    24000 |      5 |  0.000000E+00 |  0.5600000000 |  0.000000E+00 |             f\n",
      "   481 |    24050 |      5 |  0.000000E+00 |  0.5600000000 |  0.000000E+00 |             f\n",
      "   482 |    24100 |      5 |  0.000000E+00 |  0.5600000000 |  0.000000E+00 |             f\n",
      "   483 |    24150 |      5 |  0.000000E+00 |  0.5600000000 |  0.000000E+00 |             f\n",
      "   484 |    24200 |      5 |  0.000000E+00 |  0.5600000000 |  0.000000E+00 |             f\n",
      "   485 |    24250 |      5 |  0.000000E+00 |  0.5600000000 |  0.000000E+00 |             f\n",
      "   486 |    24300 |      5 |  0.000000E+00 |  0.5600000000 |  0.000000E+00 |             f\n",
      "   487 |    24350 |      5 |  0.000000E+00 |  0.5600000000 |  0.000000E+00 |             f\n",
      "   488 |    24400 |      5 |  0.000000E+00 |  0.5600000000 |  0.000000E+00 |             f\n",
      "   489 |    24450 |      5 |  0.000000E+00 |  0.5600000000 |  0.000000E+00 |             f\n",
      "   490 |    24500 |      5 |  0.000000E+00 |  0.5600000000 |  0.000000E+00 |             f\n",
      "   491 |    24550 |      5 |  0.000000E+00 |  0.5600000000 |  0.000000E+00 |             f\n",
      "   492 |    24600 |      5 |  0.000000E+00 |  0.5600000000 |  0.000000E+00 |             f\n",
      "   493 |    24650 |      5 |  0.000000E+00 |  0.5600000000 |  0.000000E+00 |             f\n",
      "   494 |    24700 |      5 |  0.000000E+00 |  0.5600000000 |  0.000000E+00 |             f\n",
      "   495 |    24750 |      5 |  0.000000E+00 |  0.5600000000 |  0.000000E+00 |             f\n",
      "   496 |    24800 |      5 |  0.000000E+00 |  0.5600000000 |  0.000000E+00 |             f\n",
      "   497 |    24850 |      5 |  0.000000E+00 |  0.5600000000 |  0.000000E+00 |             f\n",
      "   498 |    24900 |      5 |  0.000000E+00 |  0.5600000000 |  0.000000E+00 |             f\n",
      "   499 |    24950 |      5 |  0.000000E+00 |  0.5600000000 |  0.000000E+00 |             f\n",
      "   500 |    25000 |      5 |  0.000000E+00 |  0.5600000000 |  0.000000E+00 |             f\n"
     ]
    }
   ],
   "source": [
    "import warnings\n",
    "warnings.filterwarnings(\"ignore\")\n",
    "\n",
    "instance = minimize(problem1,\n",
    "                    algorithm_spea2,\n",
    "                    ('n_gen', 500),\n",
    "                    seed= 1, \n",
    "                    verbose=True)"
   ]
  },
  {
   "cell_type": "markdown",
   "metadata": {},
   "source": [
    "# Results"
   ]
  },
  {
   "cell_type": "code",
   "execution_count": 30,
   "metadata": {
    "ExecuteTime": {
     "end_time": "2023-09-27T10:38:21.012428Z",
     "start_time": "2023-09-27T10:38:21.001678Z"
    }
   },
   "outputs": [],
   "source": [
    "@numba.jit()\n",
    "def find_non_dominated_points(data):\n",
    "    \"\"\"\n",
    "    Returns the set of non-dominated points in a two-dimensional array\n",
    "    considering maximization of two objectives.\n",
    "\n",
    "    Parameters:\n",
    "        data (ndarray): A 2-dimensional array of shape (n, 2) containing the data\n",
    "                        points to be evaluated.\n",
    "\n",
    "    Returns:\n",
    "        non_dominated (ndarray): A 2-dimensional array containing the non-dominated\n",
    "                                 points with duplicates removed.\n",
    "    \"\"\"\n",
    "    non_dominated = []\n",
    "\n",
    "    for i in range(data.shape[0]):\n",
    "        is_dominated = False\n",
    "\n",
    "        for j in range(data.shape[0]):\n",
    "            if i == j:\n",
    "                continue\n",
    "\n",
    "            if (data[i][0] < data[j][0] and data[i][1] < data[j][1]):\n",
    "                is_dominated = True\n",
    "                break\n",
    "\n",
    "        if not is_dominated:\n",
    "            non_dominated.append(data[i])\n",
    "\n",
    "    non_dominated = np.array(non_dominated)\n",
    "    non_dominated = np.unique(non_dominated, axis=0)\n",
    "\n",
    "    return non_dominated"
   ]
  },
  {
   "cell_type": "markdown",
   "metadata": {},
   "source": [
    "## Pareto plots"
   ]
  },
  {
   "cell_type": "markdown",
   "metadata": {},
   "source": [
    "For the first four instances of the problem all the algorithms were able to find the same solution. However to instances 5,6 and 7, we can observe some differences. In this section we visualize the results and its respective Pareto fronts "
   ]
  },
  {
   "cell_type": "code",
   "execution_count": 34,
   "metadata": {
    "ExecuteTime": {
     "end_time": "2023-09-27T13:22:42.028605Z",
     "start_time": "2023-09-27T13:22:37.798586Z"
    },
    "colab": {
     "base_uri": "https://localhost:8080/",
     "height": 312
    },
    "id": "fKrhb3_SJXi4",
    "outputId": "1c30fda5-f5ea-4ca0-db43-50b728387ea8"
   },
   "outputs": [],
   "source": [
    "nsga2_5_cd = pd.read_csv(r'\\simulacoes\\nsga2\\cd\\pareto_nsga2_cd_5.csv', header=None)\n",
    "nsga2_5_cd = find_non_dominated_points(nsga2_5_cd.values)\n",
    "nsga2_5_ce = pd.read_csv(r'\\simulacoes\\nsga2\\ce\\pareto_nsga2_ce_5.csv', header=None)\n",
    "nsga2_5_ce = find_non_dominated_points(nsga2_5_ce.values)\n",
    "nsga2_5_pcd = pd.read_csv(r'\\simulacoes\\nsga2\\pcd\\pareto_nsga2_pcd_5.csv', header=None)\n",
    "nsga2_5_pcd = find_non_dominated_points(nsga2_5_pcd.values)\n",
    "unsga3_5 = pd.read_csv(r'\\simulacoes\\unsga3\\pareto_unsga3_5.csv', header=None)\n",
    "unsga3_5 = find_non_dominated_points(unsga3_5.values)\n",
    "sms_5 = pd.read_csv(r'\\simulacoes\\sms\\pareto_sms_5.csv', header=None)\n",
    "sms_5 = find_non_dominated_points(sms_5.values)\n",
    "spea_5 = pd.read_csv(r'\\simulacoes\\spea2\\pareto_spea2_5.csv', header=None)\n",
    "spea_5 = find_non_dominated_points(spea_5.values)\n",
    "\n",
    "nsga2_6_cd = pd.read_csv(r'\\simulacoes\\nsga2\\cd\\pareto_nsga2_cd_6.csv', header=None)\n",
    "nsga2_6_cd = find_non_dominated_points(nsga2_6_cd.values)\n",
    "nsga2_6_pcd = pd.read_csv(r'\\simulacoes\\nsga2\\pcd\\pareto_nsga2_pcd_6.csv', header=None)\n",
    "nsga2_6_pcd = find_non_dominated_points(nsga2_6_pcd.values)\n",
    "nsga2_6_ce = pd.read_csv(r'\\simulacoes\\nsga2\\ce\\pareto_nsga2_ce_6.csv', header=None)\n",
    "nsga2_6_ce = find_non_dominated_points(nsga2_6_ce.values)\n",
    "unsga3_6 = pd.read_csv(r'\\simulacoes\\unsga3\\pareto_unsga3_6.csv', header=None)\n",
    "unsga3_6 = find_non_dominated_points(unsga3_6.values)\n",
    "sms_6 = pd.read_csv(r'\\simulacoes\\sms\\pareto_sms_6.csv', header=None)\n",
    "sms_6 = find_non_dominated_points(sms_6.values)\n",
    "spea_6 = pd.read_csv(r'\\simulacoes\\spea2\\pareto_spea2_6.csv', header=None)\n",
    "spea_6 = find_non_dominated_points(spea_6.values)\n",
    "\n",
    "nsga2_7_cd = pd.read_csv(r'\\simulacoes\\nsga2\\cd\\pareto_nsga2_cd_7.csv', header=None)\n",
    "nsga2_7_cd = find_non_dominated_points(nsga2_7_cd.values)\n",
    "nsga2_7_pcd = pd.read_csv(r'\\simulacoes\\nsga2\\pcd\\pareto_nsga2_pcd_7.csv', header=None)\n",
    "nsga2_7_pcd = find_non_dominated_points(nsga2_7_pcd.values)\n",
    "nsga2_7_ce = pd.read_csv(r'\\simulacoes\\nsga2\\ce\\pareto_nsga2_ce_7.csv', header=None)\n",
    "nsga2_7_ce = find_non_dominated_points(nsga2_7_ce.values)\n",
    "unsga3_7 = pd.read_csv(r'\\simulacoes\\unsga3\\pareto_unsga3_7.csv', header=None)\n",
    "unsga3_7 = find_non_dominated_points(unsga3_7.values)\n",
    "sms_7 = pd.read_csv(r'\\simulacoes\\sms\\pareto_sms_7.csv', header=None)\n",
    "sms_7 = find_non_dominated_points(sms_7.values)\n",
    "spea_7 = pd.read_csv(r'\\simulacoes\\spea2\\pareto_spea2_7.csv', header=None)\n",
    "spea_7 = find_non_dominated_points(spea_7.values)\n",
    "\n"
   ]
  },
  {
   "cell_type": "code",
   "execution_count": 35,
   "metadata": {
    "ExecuteTime": {
     "end_time": "2023-09-27T13:22:45.311005Z",
     "start_time": "2023-09-27T13:22:42.037293Z"
    }
   },
   "outputs": [
    {
     "data": {
      "text/plain": [
       "<matplotlib.legend.Legend at 0x27e0d0a9910>"
      ]
     },
     "execution_count": 35,
     "metadata": {},
     "output_type": "execute_result"
    },
    {
     "data": {
      "image/png": "[encoded data removed]",
      "text/plain": [
       "<Figure size 432x288 with 1 Axes>"
      ]
     },
     "metadata": {
      "needs_background": "light"
     },
     "output_type": "display_data"
    }
   ],
   "source": [
    "plt.scatter(nsga2_5_ce[:,0], nsga2_5_ce[:,1], marker='s', label='NSGA-II', c='purple')\n",
    "plt.scatter(unsga3_5[:,0], unsga3_5[:,1], marker='X', label= 'UNSGA-III', c='orange')\n",
    "plt.scatter(sms_5[:,0], sms_5[:,1], marker='o', label='SMS-EMOA', c='red')\n",
    "plt.scatter(spea_5[:,0], spea_5[:,1], marker='v', label='SPEA2', c='green')\n",
    "\n",
    "\n",
    "plt.title('Dataset 5') \n",
    "plt.xlabel('Cohesion')\n",
    "plt.ylabel('Disagreement')\n",
    "plt.legend(loc='best')\n"
   ]
  },
  {
   "cell_type": "code",
   "execution_count": 36,
   "metadata": {
    "ExecuteTime": {
     "end_time": "2023-09-27T13:30:37.158179Z",
     "start_time": "2023-09-27T13:30:36.279527Z"
    }
   },
   "outputs": [
    {
     "data": {
      "text/plain": [
       "<matplotlib.legend.Legend at 0x27e0d1149d0>"
      ]
     },
     "execution_count": 36,
     "metadata": {},
     "output_type": "execute_result"
    },
    {
     "data": {
      "image/png": "[encoded data removed]",
      "text/plain": [
       "<Figure size 432x288 with 1 Axes>"
      ]
     },
     "metadata": {
      "needs_background": "light"
     },
     "output_type": "display_data"
    }
   ],
   "source": [
    "plt.scatter(nsga2_6_pcd[:,0], nsga2_6_pcd[:,1], marker='s', label='NSGA-II', c='black')\n",
    "plt.scatter(unsga3_6[:,0], unsga3_6[:,1], marker='X', label= 'UNSGA-III', c='orange')\n",
    "plt.scatter(sms_6[:,0], sms_6[:,1], marker='o', label='SMS-EMOA', c='red')\n",
    "plt.scatter(spea_6[:,0], spea_6[:,1], marker='v', label='SPEA2', c='green')\n",
    "\n",
    "\n",
    "plt.title('Dataset 6') #adicionando o título\n",
    "plt.xlabel('Cohesion')\n",
    "plt.ylabel('Disagreement')\n",
    "plt.legend(loc='best')\n"
   ]
  },
  {
   "cell_type": "code",
   "execution_count": 37,
   "metadata": {
    "ExecuteTime": {
     "end_time": "2023-09-27T13:30:59.151147Z",
     "start_time": "2023-09-27T13:30:58.441223Z"
    }
   },
   "outputs": [
    {
     "data": {
      "text/plain": [
       "<matplotlib.legend.Legend at 0x27e09941fa0>"
      ]
     },
     "execution_count": 37,
     "metadata": {},
     "output_type": "execute_result"
    },
    {
     "data": {
      "image/png": "[encoded data removed]",
      "text/plain": [
       "<Figure size 432x288 with 1 Axes>"
      ]
     },
     "metadata": {
      "needs_background": "light"
     },
     "output_type": "display_data"
    }
   ],
   "source": [
    "plt.scatter(nsga2_7_ce[:,0], nsga2_7_ce[:,1], marker='s', label='NSGA-II', c='purple')\n",
    "plt.scatter(unsga3_7[:,0], unsga3_7[:,1], marker='X', label= 'UNSGA-III', c='orange')\n",
    "plt.scatter(sms_7[:,0], sms_7[:,1], marker='o', label='SMS-EMOA', c='red')\n",
    "plt.scatter(spea_7[:,0], spea_7[:,1], marker='v', label='SPEA2', c='green')\n",
    "\n",
    "\n",
    "plt.title('Dataset 7') #adicionando o título\n",
    "plt.xlabel('Cohesion')\n",
    "plt.ylabel('Disagreement')\n",
    "plt.legend(loc='best')"
   ]
  },
  {
   "cell_type": "markdown",
   "metadata": {},
   "source": [
    "## Pareto quality assessment - Hypervolume"
   ]
  },
  {
   "cell_type": "markdown",
   "metadata": {},
   "source": [
    "The hypervolume calculation is a way to express the quality of a Pareto set in a quantitative measure. Then, the boxplot for the hypervolume computation is displayed"
   ]
  },
  {
   "cell_type": "code",
   "execution_count": 38,
   "metadata": {
    "ExecuteTime": {
     "end_time": "2023-09-27T13:31:43.291482Z",
     "start_time": "2023-09-27T13:31:42.373865Z"
    }
   },
   "outputs": [],
   "source": [
    "hv_nsga2_1_cd = pd.read_csv(r'simulacoes\\nsga2\\cd\\hv_nsga2_cd_1.csv', header=None)\n",
    "hv_nsga2_1_ce = pd.read_csv(r'simulacoes\\nsga2\\ce\\hv_nsga2_ce_1.csv', header=None)\n",
    "hv_nsga2_1_pcd = pd.read_csv(r'simulacoes\\nsga2\\pcd\\hv_nsga2_pcd_1.csv', header=None)\n",
    "hv_unsga3_1 = pd.read_csv(r'simulacoes\\unsga3\\hv_unsga3_1.csv', header=None)\n",
    "hv_sms_1 = pd.read_csv(r'simulacoes\\sms\\hv_sms_1.csv', header=None)\n",
    "hv_spea_1 = pd.read_csv(r'simulacoes\\spea2\\hv_spea2_1.csv', header=None)\n",
    "\n",
    "\n",
    "hv_nsga2_2_cd = pd.read_csv(r'simulacoes\\nsga2\\cd\\hv_nsga2_cd_2.csv', header=None)\n",
    "hv_nsga2_2_ce = pd.read_csv(r'simulacoes\\nsga2\\ce\\hv_nsga2_ce_2.csv', header=None)\n",
    "hv_nsga2_2_pcd = pd.read_csv(r'simulacoes\\nsga2\\pcd\\hv_nsga2_pcd_2.csv', header=None)\n",
    "hv_unsga3_2 = pd.read_csv(r'simulacoes\\unsga3\\hv_unsga3_2.csv', header=None)\n",
    "hv_sms_2 = pd.read_csv(r'simulacoes\\sms\\hv_sms_2.csv', header=None)\n",
    "hv_spea_2 = pd.read_csv(r'simulacoes\\spea2\\hv_spea2_2.csv', header=None)\n",
    "\n",
    "hv_nsga2_3_cd = pd.read_csv(r'simulacoes\\nsga2\\cd\\hv_nsga2_cd_3.csv', header=None)\n",
    "hv_nsga2_3_ce = pd.read_csv(r'simulacoes\\nsga2\\ce\\hv_nsga2_ce_3.csv', header=None)\n",
    "hv_nsga2_3_pcd = pd.read_csv(r'simulacoes\\nsga2\\pcd\\hv_nsga2_pcd_3.csv', header=None)\n",
    "hv_unsga3_3 = pd.read_csv(r'simulacoes\\unsga3\\hv_unsga3_3.csv', header=None)\n",
    "hv_sms_3 = pd.read_csv(r'simulacoes\\sms\\hv_sms_3.csv', header=None)\n",
    "hv_spea_3 = pd.read_csv(r'simulacoes\\spea2\\hv_spea2_3.csv', header=None)\n",
    "\n",
    "hv_nsga2_4_cd = pd.read_csv(r'simulacoes\\nsga2\\cd\\hv_nsga2_cd_4.csv', header=None)\n",
    "hv_nsga2_4_ce = pd.read_csv(r'simulacoes\\nsga2\\ce\\hv_nsga2_ce_4.csv', header=None)\n",
    "hv_nsga2_4_pcd = pd.read_csv(r'simulacoes\\nsga2\\pcd\\hv_nsga2_pcd_4.csv', header=None)\n",
    "hv_unsga3_4 = pd.read_csv(r'simulacoes\\unsga3\\hv_unsga3_4.csv', header=None)\n",
    "hv_sms_4 = pd.read_csv(r'simulacoes\\sms\\hv_sms_4.csv', header=None)\n",
    "hv_spea_4 = pd.read_csv(r'simulacoes\\spea2\\hv_spea2_4.csv', header=None)\n",
    "\n",
    "\n",
    "hv_nsga2_5_cd = pd.read_csv(r'simulacoes\\nsga2\\cd\\hv_nsga2_cd_5.csv', header=None)\n",
    "hv_nsga2_5_ce = pd.read_csv(r'simulacoes\\nsga2\\ce\\hv_nsga2_ce_5.csv', header=None)\n",
    "hv_nsga2_5_pcd = pd.read_csv(r'simulacoes\\nsga2\\pcd\\hv_nsga2_pcd_5.csv', header=None)\n",
    "hv_unsga3_5 = pd.read_csv(r'simulacoes\\unsga3\\hv_unsga3_5.csv', header=None)\n",
    "hv_sms_5 = pd.read_csv(r'simulacoes\\sms\\hv_sms_5.csv', header=None)\n",
    "hv_spea_5 = pd.read_csv(r'simulacoes\\spea2\\hv_spea2_5.csv', header=None)\n",
    "\n",
    "hv_nsga2_6_cd = pd.read_csv(r'simulacoes\\nsga2\\cd\\hv_nsga2_cd_6.csv', header=None)\n",
    "hv_nsga2_6_pcd = pd.read_csv(r'simulacoes\\nsga2\\pcd\\hv_nsga2_pcd_6.csv', header=None)\n",
    "hv_nsga2_6_ce = pd.read_csv(r'simulacoes\\nsga2\\ce\\hv_nsga2_ce_6.csv', header=None)\n",
    "hv_unsga3_6 = pd.read_csv(r'simulacoes\\unsga3\\hv_unsga3_6.csv', header=None)\n",
    "hv_sms_6 = pd.read_csv(r'simulacoes\\sms\\hv_sms_6.csv', header=None)\n",
    "hv_spea_6 = pd.read_csv(r'simulacoes\\spea2\\hv_spea2_6.csv', header=None)\n",
    "\n",
    "hv_nsga2_7_cd = pd.read_csv(r'simulacoes\\nsga2\\cd\\hv_nsga2_cd_7.csv', header=None)\n",
    "hv_nsga2_7_pcd = pd.read_csv(r'simulacoes\\nsga2\\pcd\\hv_nsga2_pcd_7.csv', header=None)\n",
    "hv_nsga2_7_ce = pd.read_csv(r'simulacoes\\nsga2\\ce\\hv_nsga2_ce_7.csv', header=None)\n",
    "hv_unsga3_7 = pd.read_csv(r'simulacoes\\unsga3\\hv_unsga3_7.csv', header=None)\n",
    "hv_sms_7 = pd.read_csv(r'simulacoes\\sms\\hv_sms_7.csv', header=None)\n",
    "hv_spea_7 = pd.read_csv(r'simulacoes\\spea2\\hv_spea2_7.csv', header=None)\n",
    "\n"
   ]
  },
  {
   "cell_type": "code",
   "execution_count": 39,
   "metadata": {
    "ExecuteTime": {
     "end_time": "2023-09-27T13:33:45.207713Z",
     "start_time": "2023-09-27T13:33:45.161548Z"
    }
   },
   "outputs": [],
   "source": [
    "hv_spea_5['Alg'] = \"SPEA2\"\n",
    "hv_nsga2_5_cd['Alg'] = \"NSGA-II\"\n",
    "hv_unsga3_5['Alg'] = \"U-NSGA-III\"\n",
    "hv_sms_5['Alg'] = \"SMS-EMOA\"\n",
    "hv_nsga2_5_pcd['Alg'] = \"NSGA-II\"\n",
    "hv_nsga2_5_ce['Alg'] = \"NSGA-II\"\n",
    "\n",
    "hv_spea_6['Alg'] = \"SPEA2\"\n",
    "hv_nsga2_6_cd['Alg'] = \"NSGA-II\"\n",
    "hv_unsga3_6['Alg'] = \"U-NSGA-III\"\n",
    "hv_sms_6['Alg'] = \"SMS-EMOA\"\n",
    "hv_nsga2_6_pcd['Alg'] = \"NSGA-II\"\n",
    "hv_nsga2_6_ce['Alg'] = \"NSGA-II\"\n",
    "\n",
    "hv_spea_7['Alg'] = \"SPEA2\"\n",
    "hv_nsga2_7_cd['Alg'] = \"NSGA-II\"\n",
    "hv_unsga3_7['Alg'] = \"U-NSGA-III\"\n",
    "hv_sms_7['Alg'] = \"SMS-EMOA\"\n",
    "hv_nsga2_7_pcd['Alg'] = \"NSGA-II\"\n",
    "hv_nsga2_7_ce['Alg'] = \"NSGA-II\""
   ]
  },
  {
   "cell_type": "code",
   "execution_count": 40,
   "metadata": {
    "ExecuteTime": {
     "end_time": "2023-09-27T13:34:06.884645Z",
     "start_time": "2023-09-27T13:34:06.836780Z"
    }
   },
   "outputs": [],
   "source": [
    "algos = [hv_spea_5, hv_unsga3_5, hv_sms_5, hv_nsga2_5_ce]\n",
    "algos6 = [hv_spea_6, hv_unsga3_6, hv_sms_6, hv_nsga2_6_pcd]\n",
    "algos7 = [hv_spea_7, hv_unsga3_7, hv_sms_7, hv_nsga2_7_ce]\n",
    "\n",
    "hv_5 = pd.concat(algos)\n",
    "hv_6 = pd.concat(algos6)\n",
    "hv_7 = pd.concat(algos7)\n",
    "\n",
    "hv_5['Algorithm'] = hv_5['Alg']\n",
    "hv_6['Algorithm'] = hv_6['Alg']\n",
    "hv_7['Algorithm'] = hv_7['Alg']"
   ]
  },
  {
   "cell_type": "code",
   "execution_count": 41,
   "metadata": {
    "ExecuteTime": {
     "end_time": "2023-09-27T13:34:36.528455Z",
     "start_time": "2023-09-27T13:34:35.745454Z"
    }
   },
   "outputs": [
    {
     "data": {
      "text/plain": [
       "<Figure size 1000x1000 with 0 Axes>"
      ]
     },
     "metadata": {},
     "output_type": "display_data"
    },
    {
     "data": {
      "image/png": "[encoded data removed]",
      "text/plain": [
       "<Figure size 1080x432 with 1 Axes>"
      ]
     },
     "metadata": {
      "needs_background": "light"
     },
     "output_type": "display_data"
    }
   ],
   "source": [
    "plt.figure(figsize=(5, 5), dpi=200)\n",
    "hv_5.boxplot(by=\"Algorithm\", figsize=(15, 6))\n",
    "plt.title('Perfomance Comparison in terms of Hypervolume')\n",
    "plt.suptitle('Instance 5')\n"
   ]
  },
  {
   "cell_type": "code",
   "execution_count": 42,
   "metadata": {
    "ExecuteTime": {
     "end_time": "2023-09-27T13:36:40.112252Z",
     "start_time": "2023-09-27T13:36:39.440136Z"
    }
   },
   "outputs": [
    {
     "data": {
      "text/plain": [
       "Text(0.5, 0.98, 'Instance 6')"
      ]
     },
     "execution_count": 42,
     "metadata": {},
     "output_type": "execute_result"
    },
    {
     "data": {
      "text/plain": [
       "<Figure size 1000x1000 with 0 Axes>"
      ]
     },
     "metadata": {},
     "output_type": "display_data"
    },
    {
     "data": {
      "image/png": "[encoded data removed]",
      "text/plain": [
       "<Figure size 1080x432 with 1 Axes>"
      ]
     },
     "metadata": {
      "needs_background": "light"
     },
     "output_type": "display_data"
    }
   ],
   "source": [
    "plt.figure(figsize=(5, 5), dpi=200)\n",
    "hv_6.boxplot(by=\"Algorithm\", figsize=(15, 6))\n",
    "plt.title('Perfomance Comparison in terms of Hypervolume') #adicionando o título\n",
    "plt.suptitle('Instance 6')\n"
   ]
  },
  {
   "cell_type": "code",
   "execution_count": 43,
   "metadata": {
    "ExecuteTime": {
     "end_time": "2023-09-27T13:36:40.853881Z",
     "start_time": "2023-09-27T13:36:40.115226Z"
    }
   },
   "outputs": [
    {
     "data": {
      "text/plain": [
       "<Figure size 1000x1000 with 0 Axes>"
      ]
     },
     "metadata": {},
     "output_type": "display_data"
    },
    {
     "data": {
      "image/png": "[encoded data removed]",
      "text/plain": [
       "<Figure size 1080x432 with 1 Axes>"
      ]
     },
     "metadata": {
      "needs_background": "light"
     },
     "output_type": "display_data"
    }
   ],
   "source": [
    "plt.figure(figsize=(5, 5), dpi=200)\n",
    "hv_7.boxplot(by=\"Algorithm\", figsize=(15, 6))\n",
    "plt.title('Perfomance Comparison in terms of Hypervolume') #adicionando o título\n",
    "plt.suptitle('Instance 7')\n",
    "plt.savefig('boxplot7.png')"
   ]
  },
  {
   "cell_type": "markdown",
   "metadata": {
    "id": "gITOmVr4o5rg"
   },
   "source": [
    "# Grid Search"
   ]
  },
  {
   "cell_type": "code",
   "execution_count": null,
   "metadata": {
    "colab": {
     "base_uri": "https://localhost:8080/"
    },
    "id": "oWTNM1S-mKK9",
    "outputId": "76558506-b654-47e0-b4a8-aef9844f7d8f"
   },
   "outputs": [
    {
     "name": "stdout",
     "output_type": "stream",
     "text": [
      "time: 1.61 ms (started: 2022-03-19 19:56:23 +00:00)\n"
     ]
    }
   ],
   "source": [
    "from pymoo.factory import get_performance_indicator"
   ]
  },
  {
   "cell_type": "code",
   "execution_count": 43,
   "metadata": {
    "ExecuteTime": {
     "end_time": "2023-03-30T05:56:04.833707Z",
     "start_time": "2023-03-29T23:26:15.614611Z"
    },
    "colab": {
     "base_uri": "https://localhost:8080/"
    },
    "id": "UwPKkM7vmJP0",
    "outputId": "3d00b8ad-807b-42f9-8221-6d0fa726cb1f"
   },
   "outputs": [
    {
     "name": "stdout",
     "output_type": "stream",
     "text": [
      "hv =  0.483484641877609 crossover =  0.1 mutation =  0.02\n",
      "hv =  0.4292305765189418 crossover =  0.1 mutation =  0.01\n",
      "hv =  0.5372785224630015 crossover =  0.1 mutation =  0.05\n",
      "hv =  0.4709842106999046 crossover =  0.1 mutation =  0.1\n",
      "hv =  0.6053121799039577 crossover =  0.1 mutation =  0.25\n",
      "hv =  0.3553157498301341 crossover =  0.3 mutation =  0.02\n",
      "hv =  0.26325879871397995 crossover =  0.3 mutation =  0.01\n",
      "hv =  0.4659791750179884 crossover =  0.3 mutation =  0.05\n",
      "hv =  0.5307460576150769 crossover =  0.3 mutation =  0.1\n",
      "hv =  0.5595680718847322 crossover =  0.3 mutation =  0.25\n",
      "hv =  0.3087933325446436 crossover =  0.5 mutation =  0.02\n",
      "hv =  0.26944436467846117 crossover =  0.5 mutation =  0.01\n",
      "hv =  0.42511409957600066 crossover =  0.5 mutation =  0.05\n",
      "hv =  0.5087951730277882 crossover =  0.5 mutation =  0.1\n",
      "hv =  0.5626153856223111 crossover =  0.5 mutation =  0.25\n",
      "hv =  0.17638676596866643 crossover =  0.7 mutation =  0.02\n",
      "hv =  0.23083760429211692 crossover =  0.7 mutation =  0.01\n",
      "hv =  0.3479985353179609 crossover =  0.7 mutation =  0.05\n",
      "hv =  0.47818115740621964 crossover =  0.7 mutation =  0.1\n",
      "hv =  0.5427902018557176 crossover =  0.7 mutation =  0.25\n",
      "hv =  0.16714048821878202 crossover =  0.9 mutation =  0.02\n",
      "hv =  0.2742374796437608 crossover =  0.9 mutation =  0.01\n",
      "hv =  0.2668224820741467 crossover =  0.9 mutation =  0.05\n",
      "hv =  0.4145536651921501 crossover =  0.9 mutation =  0.1\n",
      "hv =  0.4941747615219316 crossover =  0.9 mutation =  0.25\n"
     ]
    }
   ],
   "source": [
    "problem = Multi_Thread(SM5, RM5, D5)\n",
    "\n",
    "mutation_rates = {'1':(1/problem.ni),'2':0.01, '3':0.05, '4':0.1,'5':0.25}\n",
    "\n",
    "h = []\n",
    "for i in range(1,10,1):\n",
    "  for value in mutation_rates.values():\n",
    "    \n",
    "    algorithm = NSGA2(\n",
    "          pop_size=80,\n",
    "          sampling = MySampling(),\n",
    "          crossover = SBX(prob=(i/10)),\n",
    "          mutation = InversionMutation(prob=value),\n",
    "          eliminate_duplicates=True)\n",
    "\n",
    "    import warnings\n",
    "    warnings.filterwarnings(\"ignore\")\n",
    "\n",
    "    res1 = minimize(problem,\n",
    "                    algorithm,\n",
    "                    ('n_gen', 3500),\n",
    "                    verbose=False)\n",
    "    hv = HV(ref_point=np.array([1, 0]))\n",
    "    hyper = hv(res1.F)\n",
    "    lista = [hyper, i/10, value]\n",
    "    h.append(lista)\n",
    "    print(\"hv = \", hyper, \"crossover = \", i/10, \"mutation = \", value)\n",
    "H = pd.DataFrame.from_records(h)"
   ]
  },
  {
   "cell_type": "code",
   "execution_count": null,
   "metadata": {
    "id": "_QBDY1bWvuoG"
   },
   "outputs": [],
   "source": [
    "# hv =  0.28728293451009734 crossover =  0.2 mutation =  0.02\n",
    "# hv =  0.28690046830932747 crossover =  0.2 mutation =  0.01\n",
    "# hv =  0.24522132716134604 crossover =  0.2 mutation =  0.05\n",
    "# hv =  0.2719269236436319 crossover =  0.2 mutation =  0.1\n",
    "# hv =  0.2864929819627692 crossover =  0.2 mutation =  0.25\n",
    "# hv =  0.26916070320222674 crossover =  0.4 mutation =  0.02\n",
    "# hv =  0.18159348097430023 crossover =  0.4 mutation =  0.01\n",
    "# hv =  0.2935262171061318 crossover =  0.4 mutation =  0.05\n",
    "# hv =  0.27949825122045735 crossover =  0.4 mutation =  0.1\n",
    "# hv =  0.28315341602090893 crossover =  0.4 mutation =  0.25\n",
    "# hv =  0.2258603114075607 crossover =  0.6 mutation =  0.02\n",
    "# hv =  0.17251932215781773 crossover =  0.6 mutation =  0.01\n",
    "# hv =  0.23350519584747953 crossover =  0.6 mutation =  0.05\n",
    "# hv =  0.2466161151328397 crossover =  0.6 mutation =  0.1\n",
    "# hv =  0.25082311738780094 crossover =  0.6 mutation =  0.25\n",
    "# hv =  0.22536100565876965 crossover =  0.8 mutation =  0.02\n",
    "# hv =  0.15778690176002194 crossover =  0.8 mutation =  0.01\n",
    "# hv =  0.23926376921237147 crossover =  0.8 mutation =  0.05\n",
    "# hv =  0.23630979924816414 crossover =  0.8 mutation =  0.1\n",
    "# hv =  0.26681335121709815 crossover =  0.8 mutation =  0.25"
   ]
  },
  {
   "cell_type": "code",
   "execution_count": null,
   "metadata": {},
   "outputs": [],
   "source": []
  }
 ],
 "metadata": {
  "colab": {
   "collapsed_sections": [],
   "name": "MOO_TFP.ipynb",
   "provenance": []
  },
  "kernelspec": {
   "display_name": "Python 3",
   "language": "python",
   "name": "python3"
  },
  "language_info": {
   "codemirror_mode": {
    "name": "ipython",
    "version": 3
   },
   "file_extension": ".py",
   "mimetype": "text/x-python",
   "name": "python",
   "nbconvert_exporter": "python",
   "pygments_lexer": "ipython3",
   "version": "3.8.5"
  },
  "toc": {
   "base_numbering": 1,
   "nav_menu": {},
   "number_sections": true,
   "sideBar": true,
   "skip_h1_title": false,
   "title_cell": "Table of Contents",
   "title_sidebar": "Contents",
   "toc_cell": false,
   "toc_position": {
    "height": "573.6px",
    "left": "95px",
    "top": "109.725px",
    "width": "303.825px"
   },
   "toc_section_display": true,
   "toc_window_display": true
  }
 },
 "nbformat": 4,
 "nbformat_minor": 1
}
